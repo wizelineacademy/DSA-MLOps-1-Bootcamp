{
 "cells": [
  {
   "cell_type": "markdown",
   "metadata": {},
   "source": [
    "## Chevaliere de mere problem\n",
    "\n",
    "[Pascal and the Invention of Probability Theory\n",
    "](https://www.ms.uky.edu/~dmu228/ma320/pascal_invention_probability.pdf)\n",
    "\n",
    "go to 3rd page\n",
    "\n",
    "When one throws with two dice, how many throws must one be allowed in order to have a better than even chance of getting two sixes at least once?\n"
   ]
  },
  {
   "cell_type": "code",
   "execution_count": 3,
   "metadata": {},
   "outputs": [],
   "source": [
    "import random"
   ]
  },
  {
   "cell_type": "code",
   "execution_count": 4,
   "metadata": {},
   "outputs": [],
   "source": [
    "def roll_dice():\n",
    "    lo = 1\n",
    "    hi = 6\n",
    "    return random.randint(lo, hi)"
   ]
  },
  {
   "cell_type": "code",
   "execution_count": 30,
   "metadata": {},
   "outputs": [
    {
     "data": {
      "text/plain": [
       "3"
      ]
     },
     "execution_count": 30,
     "metadata": {},
     "output_type": "execute_result"
    }
   ],
   "source": [
    "#ctrl space runs cell and keeps in cell\n",
    "roll_dice()"
   ]
  },
  {
   "cell_type": "code",
   "execution_count": 31,
   "metadata": {},
   "outputs": [],
   "source": [
    "def roll_for_6(trials):\n",
    "    for _ in range(trials):\n",
    "        if roll_dice() == 6:\n",
    "            return True\n",
    "    return False\n",
    "\n",
    "\n",
    "def rolls_for_6_two_dice(trials):\n",
    "    for _ in range(trials):\n",
    "        if roll_dice() + roll_dice() == 12:\n",
    "            return True\n",
    "    return False\n",
    "\n"
   ]
  },
  {
   "cell_type": "code",
   "execution_count": 37,
   "metadata": {},
   "outputs": [
    {
     "data": {
      "text/plain": [
       "False"
      ]
     },
     "execution_count": 37,
     "metadata": {},
     "output_type": "execute_result"
    }
   ],
   "source": [
    "rolls_for_6_two_dice(4)"
   ]
  },
  {
   "cell_type": "markdown",
   "metadata": {},
   "source": [
    "## Exercise \n",
    "Use rolls_for_6_two_dice(25) to calculate with frequencies the probability\n",
    "\n",
    "\n",
    "\n"
   ]
  },
  {
   "cell_type": "code",
   "execution_count": 83,
   "metadata": {},
   "outputs": [
    {
     "name": "stdout",
     "output_type": "stream",
     "text": [
      "0.493\n"
     ]
    }
   ],
   "source": [
    "samples = 1000\n",
    "\n",
    "t=0\n",
    "f=0\n",
    "for i in range(samples):\n",
    "    if rolls_for_6_two_dice(25):\n",
    "        t+=1\n",
    "    else:\n",
    "        f+=1\n",
    "print(f\"{t/samples}\")\n"
   ]
  },
  {
   "cell_type": "markdown",
   "metadata": {},
   "source": [
    "## Article Formula\n",
    "\n",
    "$p_{n} = 1 - q_{n} = 1 - \\left( \\frac{35}{36} \\right) ^n $\n",
    "\n",
    "[Latex ref guide](https://www.overleaf.com/learn/latex/Brackets_and_Parentheses)"
   ]
  },
  {
   "cell_type": "code",
   "execution_count": 41,
   "metadata": {},
   "outputs": [],
   "source": [
    "p_mere = lambda x: 1-(35/36)**x"
   ]
  },
  {
   "cell_type": "code",
   "execution_count": 47,
   "metadata": {},
   "outputs": [
    {
     "name": "stdout",
     "output_type": "stream",
     "text": [
      "throwing 10 times gives p=0.24550661610055668\n",
      "throwing 11 times gives p=0.266464765653319\n",
      "throwing 12 times gives p=0.28684074438517126\n",
      "throwing 13 times gives p=0.30665072370780544\n",
      "throwing 14 times gives p=0.3259104258270331\n",
      "throwing 15 times gives p=0.3446351362207266\n",
      "throwing 16 times gives p=0.36283971577015084\n",
      "throwing 17 times gives p=0.3805386125543133\n",
      "throwing 18 times gives p=0.39774587331669353\n",
      "throwing 19 times gives p=0.4144751546134521\n",
      "throwing 20 times gives p=0.43073973365196727\n",
      "throwing 21 times gives p=0.4465525188283015\n",
      "throwing 22 times gives p=0.4619260599719598\n",
      "throwing 23 times gives p=0.4768725583060721\n",
      "throwing 24 times gives p=0.4914038761309034\n",
      "throwing 25 times gives p=0.5055315462383783\n",
      "throwing 26 times gives p=0.51926678106509\n",
      "throwing 27 times gives p=0.5326204815910598\n",
      "throwing 28 times gives p=0.545603245991308\n",
      "throwing 29 times gives p=0.5582253780471051\n"
     ]
    }
   ],
   "source": [
    "for i in range(10,30):\n",
    "    print(f\"throwing {i} times gives p={p_mere(i)}\")"
   ]
  },
  {
   "cell_type": "code",
   "execution_count": null,
   "metadata": {},
   "outputs": [],
   "source": []
  }
 ],
 "metadata": {
  "kernelspec": {
   "display_name": "nb_data_env",
   "language": "python",
   "name": "nb_data_env"
  },
  "language_info": {
   "codemirror_mode": {
    "name": "ipython",
    "version": 3
   },
   "file_extension": ".py",
   "mimetype": "text/x-python",
   "name": "python",
   "nbconvert_exporter": "python",
   "pygments_lexer": "ipython3",
   "version": "3.8.16"
  }
 },
 "nbformat": 4,
 "nbformat_minor": 2
}
