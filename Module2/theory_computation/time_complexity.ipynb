{
  "cells": [
    {
      "cell_type": "markdown",
      "metadata": {
        "id": "JpGgQvlLpWbq"
      },
      "source": [
        "## Time Complexity\n",
        "\n",
        "\n"
      ]
    },
    {
      "cell_type": "code",
      "execution_count": null,
      "metadata": {
        "id": "gWTwd1MapWbq"
      },
      "outputs": [],
      "source": [
        "import numpy as np\n",
        "import timeit\n",
        "import time\n",
        "import random\n",
        "\n",
        "from math import factorial\n",
        "import matplotlib.pyplot as plt"
      ]
    },
    {
      "cell_type": "code",
      "execution_count": null,
      "metadata": {
        "id": "o3MlBINTpWbr"
      },
      "outputs": [],
      "source": [
        "random.seed(42)"
      ]
    },
    {
      "cell_type": "code",
      "execution_count": null,
      "metadata": {
        "id": "9P6AN6IapWbr"
      },
      "outputs": [],
      "source": [
        "# Decorator for time\n",
        "def wrapper(func, *args, **kwargs):\n",
        "    def wrapped():\n",
        "        return func(*args, **kwargs)\n",
        "    return wrapped\n",
        "\n",
        "def timer(func, *args):\n",
        "    wrapped = wrapper(func, *args)\n",
        "    time = timeit.timeit(wrapped,number=10000)\n",
        "    return(\"Time of execution is {} ms\".format(time))"
      ]
    },
    {
      "cell_type": "markdown",
      "metadata": {
        "id": "EbHxziBvpWbr"
      },
      "source": [
        "### O(1) Constant"
      ]
    },
    {
      "cell_type": "code",
      "execution_count": null,
      "metadata": {
        "id": "jhifCG0kpWbr"
      },
      "outputs": [],
      "source": [
        "# Adds 2 numbers\n",
        "def O1_add(n1, n2):\n",
        "    return (n1 + n2)"
      ]
    },
    {
      "cell_type": "code",
      "execution_count": null,
      "metadata": {
        "colab": {
          "base_uri": "https://localhost:8080/"
        },
        "id": "BeabFgqlpWbr",
        "outputId": "42afb02b-c5bd-4e7f-a1d1-ad38e30a5bb1"
      },
      "outputs": [
        {
          "name": "stdout",
          "output_type": "stream",
          "text": [
            "1 , 2746317215\n",
            "Time of execution is 0.00611226899999906 ms\n",
            "\n",
            "2 , 1181241946\n",
            "Time of execution is 0.005639580000007527 ms\n",
            "\n",
            "3 , 3163119789\n",
            "Time of execution is 0.006190717999999151 ms\n",
            "\n",
            "4 , 1812140446\n",
            "Time of execution is 0.006475918000006686 ms\n",
            "\n",
            "5 , 939042961\n",
            "Time of execution is 0.005897378000000231 ms\n",
            "\n"
          ]
        }
      ],
      "source": [
        "for n in range(1,6):\n",
        "    print(n,\",\",n + random.randint(1,int(1e10)))\n",
        "    print(timer(O1_add, int(n), int(n) + random.randint(1,int(1e10))))\n",
        "    print()"
      ]
    },
    {
      "cell_type": "code",
      "execution_count": null,
      "metadata": {
        "id": "Z4bN-a9SpWbr"
      },
      "outputs": [],
      "source": [
        "# Checks whether a number is even or odd by checking last digit of binary representation\n",
        "def O1_odd_check(num):\n",
        "    is_odd = False\n",
        "    if num & 1 == 1:\n",
        "        is_odd = True\n",
        "    return is_odd"
      ]
    },
    {
      "cell_type": "code",
      "execution_count": null,
      "metadata": {
        "colab": {
          "base_uri": "https://localhost:8080/"
        },
        "id": "ksFUu94vpWbr",
        "outputId": "539dd2c8-588e-4439-a2a9-1ea1fbb2f0f1"
      },
      "outputs": [
        {
          "name": "stdout",
          "output_type": "stream",
          "text": [
            "1 :: True :: Time of execution is 0.0031736109999656037 ms\n",
            "5 :: True :: Time of execution is 0.0040689130000259865 ms\n",
            "8 :: False :: Time of execution is 0.0024781729999858726 ms\n",
            "82 :: False :: Time of execution is 0.0024136839999755466 ms\n",
            "101 :: True :: Time of execution is 0.002505659000007654 ms\n"
          ]
        }
      ],
      "source": [
        "check_lst = [1,5,8,82,101]\n",
        "for num in check_lst:\n",
        "    print(num,\"::\",O1_odd_check(num),\"::\",timer(O1_odd_check, num))"
      ]
    },
    {
      "cell_type": "markdown",
      "metadata": {
        "id": "KDDS_XfIpWbs"
      },
      "source": [
        "## O(n) Linear"
      ]
    },
    {
      "cell_type": "code",
      "execution_count": null,
      "metadata": {
        "id": "axKxGeYppWbs"
      },
      "outputs": [],
      "source": [
        "# Finds an item in an unsorted list\n",
        "def On_simple_search(lst,number):\n",
        "    is_found = False\n",
        "    for num in lst:\n",
        "        if num == number:\n",
        "            is_found = True\n",
        "    return is_found"
      ]
    },
    {
      "cell_type": "code",
      "execution_count": null,
      "metadata": {
        "colab": {
          "base_uri": "https://localhost:8080/"
        },
        "id": "Ww15qj-RpWbs",
        "outputId": "b4208490-d201-4139-82ec-db18a0c8d454"
      },
      "outputs": [
        {
          "name": "stdout",
          "output_type": "stream",
          "text": [
            "True :: Time of execution is 0.007045793000031608 ms\n",
            "False :: Time of execution is 0.25347487600004115 ms\n",
            "True :: Time of execution is 30.148824225999988 ms\n"
          ]
        }
      ],
      "source": [
        "lst1 = range(5)\n",
        "lst2 = range(500)\n",
        "lst3 = range(50000)\n",
        "\n",
        "num1 = 2\n",
        "num2 = -50\n",
        "num3 = 4000\n",
        "print(On_simple_search(lst1,num1),\"::\",timer(On_simple_search,lst1,num1))\n",
        "print(On_simple_search(lst2,num2),\"::\",timer(On_simple_search,lst2,num2))\n",
        "print(On_simple_search(lst3,num3),\"::\",timer(On_simple_search,lst3,num3))"
      ]
    },
    {
      "cell_type": "markdown",
      "metadata": {
        "id": "p_OJLJ4vpWbs"
      },
      "source": [
        "## O(log N)"
      ]
    },
    {
      "cell_type": "code",
      "execution_count": null,
      "metadata": {
        "id": "nqmrBolfpWbs"
      },
      "outputs": [],
      "source": [
        "def Ologn_binary_search(list,number):\n",
        "    first = 0\n",
        "    last = len(list) - 1\n",
        "    is_found = False\n",
        "    while first <= last and not is_found:\n",
        "        mid = (first + last)//2\n",
        "        if list[mid] == number:\n",
        "            is_found = True\n",
        "        else:\n",
        "            if number < mid:\n",
        "                last = mid - 1\n",
        "            else:\n",
        "                first = mid + 1\n",
        "    return is_found"
      ]
    },
    {
      "cell_type": "code",
      "execution_count": null,
      "metadata": {
        "colab": {
          "base_uri": "https://localhost:8080/"
        },
        "id": "MlBwmzf4pWbs",
        "outputId": "b229f627-ff52-483e-bc90-43320d26b844"
      },
      "outputs": [
        {
          "name": "stdout",
          "output_type": "stream",
          "text": [
            "True :: Time of execution is 0.005237850000000321 ms :: log value = 2.321928094887362\n",
            "False :: Time of execution is 0.029338944000002698 ms :: log value = 8.965784284662087\n",
            "True :: Time of execution is 0.04717903099999887 ms :: log value = 15.609640474436812\n"
          ]
        }
      ],
      "source": [
        "lst1 = range(5)\n",
        "lst2 = range(500)\n",
        "lst3 = range(50000)\n",
        "\n",
        "num1 = 2\n",
        "num2 = -50\n",
        "num3 = 4000\n",
        "print(Ologn_binary_search(lst1,num1),\"::\",timer(Ologn_binary_search,lst1,num1),\"::\",\"log value = {}\".format(np.log2(len(lst1))))\n",
        "print(Ologn_binary_search(lst2,num2),\"::\",timer(Ologn_binary_search,lst2,num2),\"::\",\"log value = {}\".format(np.log2(len(lst2))))\n",
        "print(Ologn_binary_search(lst3,num3),\"::\",timer(Ologn_binary_search,lst3,num3),\"::\",\"log value = {}\".format(np.log2(len(lst3))))"
      ]
    },
    {
      "cell_type": "markdown",
      "metadata": {
        "id": "xUQ_N89lpWbs"
      },
      "source": [
        "## O(n log n)"
      ]
    },
    {
      "cell_type": "code",
      "execution_count": null,
      "metadata": {
        "id": "g3VQfse1pWbs"
      },
      "outputs": [],
      "source": [
        "def Onlogn_merge_sort(sequence):\n",
        "    if len(sequence) < 2:\n",
        "        return sequence\n",
        "\n",
        "    m = len(sequence) // 2\n",
        "    return Onlogn_merge(Onlogn_merge_sort(sequence[:m]), Onlogn_merge_sort(sequence[m:]))\n",
        "\n",
        "\n",
        "def Onlogn_merge(left, right):\n",
        "    result = []\n",
        "    i = j = 0\n",
        "    while i < len(left) and j < len(right):\n",
        "        if left[i] < right[j]:\n",
        "            result.append(left[i])\n",
        "            i += 1\n",
        "        else:\n",
        "            result.append(right[j])\n",
        "            j += 1\n",
        "    result += left[i:]\n",
        "    result += right[j:]\n",
        "\n",
        "    return result"
      ]
    },
    {
      "cell_type": "code",
      "execution_count": null,
      "metadata": {
        "colab": {
          "base_uri": "https://localhost:8080/"
        },
        "id": "ZRotf-utpWbs",
        "outputId": "a61805e9-9f96-4d95-a6e0-09f712741294"
      },
      "outputs": [
        {
          "name": "stdout",
          "output_type": "stream",
          "text": [
            "0 1 2 3 4 6 8 8 43\n"
          ]
        }
      ],
      "source": [
        "array = [4, 2, 3, 8, 8, 43, 6,1, 0]\n",
        "ar = Onlogn_merge_sort(array)\n",
        "print (\" \".join(str(x) for x in ar))"
      ]
    },
    {
      "cell_type": "code",
      "execution_count": null,
      "metadata": {
        "id": "w5S76msCpWbs"
      },
      "outputs": [],
      "source": [
        "lst1 = [4,2,3,8,8,43,6,1,0,83]\n",
        "lst2 = []\n",
        "for i in range(100):\n",
        "    lst2.append(random.randint(0,i))"
      ]
    },
    {
      "cell_type": "code",
      "execution_count": null,
      "metadata": {
        "colab": {
          "base_uri": "https://localhost:8080/"
        },
        "id": "7z0PY5X_pWbs",
        "outputId": "e3f56f0e-a07c-481c-dee8-efbfb7415f4d"
      },
      "outputs": [
        {
          "name": "stdout",
          "output_type": "stream",
          "text": [
            "Sorted lst1::  [0, 1, 2, 3, 4, 6, 8, 8, 43, 83]\n",
            "Time of execution is 0.15971263000000135 ms  :: nlogn ~= 33.219280948873624\n",
            "Sorted lst2::  [0, 0, 0, 1, 1, 2, 2, 2, 2, 2, 3, 3, 3, 3, 3, 4, 4, 4, 4, 4, 5, 5, 5, 6, 6, 6, 7, 8, 8, 10, 10, 10, 11, 11, 12, 12, 12, 12, 13, 14, 14, 14, 15, 17, 17, 17, 17, 17, 18, 18, 18, 19, 20, 22, 23, 23, 23, 23, 24, 27, 27, 28, 28, 29, 29, 29, 31, 33, 33, 34, 34, 34, 38, 40, 40, 40, 40, 41, 41, 42, 43, 44, 46, 46, 48, 50, 51, 51, 54, 58, 59, 63, 63, 65, 68, 71, 72, 74, 74, 82]\n",
            "Time of execution is 2.3825820729999947 ms  :: nlogn ~= 664.3856189774724\n"
          ]
        }
      ],
      "source": [
        "print(\"Sorted lst1:: \",Onlogn_merge_sort(lst1))\n",
        "print(timer(Onlogn_merge_sort,lst1),\" :: nlogn ~= {}\".format(len(lst1)*np.log2(len(lst1))))\n",
        "\n",
        "print(\"Sorted lst2:: \",Onlogn_merge_sort(lst2))\n",
        "print(timer(Onlogn_merge_sort,lst2),\" :: nlogn ~= {}\".format(len(lst2)*np.log2(len(lst2))))"
      ]
    },
    {
      "cell_type": "markdown",
      "metadata": {
        "id": "Qe0UamCmpWbs"
      },
      "source": [
        "## O(n^2)"
      ]
    },
    {
      "cell_type": "code",
      "execution_count": null,
      "metadata": {
        "id": "5aJrYLe6pWbs"
      },
      "outputs": [],
      "source": [
        "def On2_bubble_sort(lst):\n",
        "    for i in range(len(lst)-1):\n",
        "        for j in range(len(lst)-1-i):\n",
        "            if lst[j] > lst[j+1]:\n",
        "                lst[j], lst[j+1] = lst[j+1], lst[j]\n",
        "    return lst"
      ]
    },
    {
      "cell_type": "code",
      "execution_count": null,
      "metadata": {
        "id": "eU9XBfjppWbs"
      },
      "outputs": [],
      "source": [
        "lst1 = [4,2,3,8,8,43,6,1,0,83]\n",
        "lst2 = []\n",
        "for i in range(100):\n",
        "    lst2.append(random.randint(0,i))"
      ]
    },
    {
      "cell_type": "code",
      "execution_count": null,
      "metadata": {
        "colab": {
          "base_uri": "https://localhost:8080/"
        },
        "id": "yTQM9fuUpWbs",
        "outputId": "a1aaaafe-d65e-4a5a-f849-037bbfc1b69c"
      },
      "outputs": [
        {
          "name": "stdout",
          "output_type": "stream",
          "text": [
            "Sorted lst1::  [0, 1, 2, 3, 4, 6, 8, 8, 43, 83]\n",
            "Time of execution is 0.06984584799999993 ms  :: n^2 ~= 100\n",
            "Sorted lst2::  [0, 0, 0, 0, 0, 0, 0, 1, 1, 1, 1, 2, 3, 3, 3, 3, 4, 4, 4, 5, 5, 5, 5, 6, 6, 6, 7, 7, 7, 8, 8, 8, 8, 8, 8, 9, 9, 9, 9, 9, 10, 10, 11, 12, 13, 14, 15, 15, 15, 16, 16, 16, 17, 19, 19, 20, 21, 23, 23, 23, 23, 24, 25, 27, 28, 28, 29, 29, 31, 31, 31, 32, 32, 33, 33, 34, 34, 36, 38, 39, 42, 43, 46, 47, 48, 49, 51, 52, 54, 56, 57, 60, 66, 67, 69, 70, 75, 75, 80, 90]\n",
            "Time of execution is 5.099161906000006 ms  :: n^2 ~= 10000\n"
          ]
        }
      ],
      "source": [
        "print(\"Sorted lst1:: \",On2_bubble_sort(lst1))\n",
        "print(timer(On2_bubble_sort,lst1),\" :: n^2 ~= {}\".format(len(lst1)**2))\n",
        "\n",
        "print(\"Sorted lst2:: \",On2_bubble_sort(lst2))\n",
        "print(timer(On2_bubble_sort,lst2),\" :: n^2 ~= {}\".format(len(lst2)**2))"
      ]
    },
    {
      "cell_type": "markdown",
      "metadata": {
        "id": "_7a9PRLXpWbs"
      },
      "source": [
        "## O(n!)"
      ]
    },
    {
      "cell_type": "code",
      "execution_count": null,
      "metadata": {
        "id": "AoRPpWJmpWbs"
      },
      "outputs": [],
      "source": [
        "def onfac_perm(a, k=0):\n",
        "    if k==len(a):\n",
        "#         print(a) # Commendted out for display purposes\n",
        "        pass\n",
        "    else:\n",
        "        for i in range(k, len(a)):\n",
        "            a[k],a[i] = a[i],a[k]\n",
        "            onfac_perm(a, k+1)\n",
        "            a[k],a[i] = a[i],a[k]"
      ]
    },
    {
      "cell_type": "code",
      "execution_count": null,
      "metadata": {
        "colab": {
          "base_uri": "https://localhost:8080/"
        },
        "id": "cxRhOK32pWbt",
        "outputId": "bbf8a9ca-276c-4b42-fcea-55e1489cccd7"
      },
      "outputs": [
        {
          "name": "stdout",
          "output_type": "stream",
          "text": [
            "List of 2 items ::  Time of execution is 0.03023008600001731 ms  :: factorial 2 is 2\n",
            "List of 4 items ::  Time of execution is 0.32593218999997475 ms  :: factorial 4 is 24\n",
            "List of 6 items ::  Time of execution is 10.82001301599999 ms  :: factorial 6 is 720\n"
          ]
        }
      ],
      "source": [
        "lst1 = [1,2,]\n",
        "lst2 = [1,2,3,4]\n",
        "lst3 = [1,2,3,4,5,6]\n",
        "\n",
        "print(\"List of {} items :: \".format(len(lst1)), timer(onfac_perm,lst1), \" :: factorial {} is {}\".format(len(lst1),factorial(len(lst1))))\n",
        "print(\"List of {} items :: \".format(len(lst2)), timer(onfac_perm,lst2), \" :: factorial {} is {}\".format(len(lst2),factorial(len(lst2))))\n",
        "print(\"List of {} items :: \".format(len(lst3)), timer(onfac_perm,lst3), \" :: factorial {} is {}\".format(len(lst3),factorial(len(lst3))))"
      ]
    },
    {
      "cell_type": "markdown",
      "metadata": {
        "id": "-MOfMLQJpWbt"
      },
      "source": [
        "### Graphical view of time complexity"
      ]
    },
    {
      "cell_type": "code",
      "execution_count": null,
      "metadata": {
        "id": "WQMCNhoapWbt"
      },
      "outputs": [],
      "source": [
        "# O(1) Complexity\n",
        "def constant_complexity(n):\n",
        "    return n + 1\n",
        "\n",
        "# O(n) Complexity\n",
        "def linear_complexity(n):\n",
        "    sum = 0\n",
        "    for i in range(n):\n",
        "        sum += i\n",
        "    return sum\n",
        "\n",
        "# O(log n) Complexity - Binary Search as an example\n",
        "def logarithmic_complexity(arr, target):\n",
        "    low = 0\n",
        "    high = len(arr) - 1\n",
        "    while low <= high:\n",
        "        mid = (low + high) // 2\n",
        "        if arr[mid] < target:\n",
        "            low = mid + 1\n",
        "        elif arr[mid] > target:\n",
        "            high = mid - 1\n",
        "        else:\n",
        "            return mid\n",
        "    return -1\n",
        "\n",
        "# O(n^2) Complexity\n",
        "def quadratic_complexity(n):\n",
        "    sum = 0\n",
        "    for i in range(n):\n",
        "        for j in range(n):\n",
        "            sum += i + j\n",
        "    return sum\n",
        "\n",
        "# O(n!) Complexity - Factorial as an example\n",
        "def factorial(n):\n",
        "    # Calculate n! iteratively\n",
        "    factorial = 1\n",
        "    for i in range(1, n + 1):\n",
        "        factorial *= i\n",
        "    return factorial\n",
        "\n",
        "# Generate synthetic data\n",
        "n_values = list(range(1, 1001, 5))  # Adjust the range based on the complexity of the algorithms\n",
        "\n",
        "# Measure execution times\n",
        "times = {\n",
        "    'O(1)': [],\n",
        "    'O(n)': [],\n",
        "    'O(log n)': [],\n",
        "    'O(n^2)': [],\n",
        "    'O(n!)': [],\n",
        "}\n",
        "\n",
        "for n in n_values:\n",
        "    # O(1)\n",
        "    start_time = time.time()\n",
        "    constant_complexity(n)\n",
        "    times['O(1)'].append(time.time() - start_time)\n",
        "\n",
        "    # O(n)\n",
        "    start_time = time.time()\n",
        "    linear_complexity(n)\n",
        "    times['O(n)'].append(time.time() - start_time)\n",
        "\n",
        "    # O(log n)\n",
        "    arr = sorted(list(range(n)))\n",
        "    target = arr[-1]  # Ensure the target is in the array\n",
        "    start_time = time.time()\n",
        "    logarithmic_complexity(arr, target)\n",
        "    times['O(log n)'].append(time.time() - start_time)\n",
        "\n",
        "    # O(n^2)\n",
        "    start_time = time.time()\n",
        "    quadratic_complexity(n)\n",
        "    times['O(n^2)'].append(time.time() - start_time)\n",
        "\n",
        "    # O(n!)\n",
        "    if n <= 15:  # Factorial grows very fast, so we limit n to avoid long computation times\n",
        "        start_time = time.time()\n",
        "        factorial(n)\n",
        "        times['O(n!)'].append(time.time() - start_time)\n",
        "    else:\n",
        "        times['O(n!)'].append(None)"
      ]
    },
    {
      "cell_type": "code",
      "execution_count": null,
      "metadata": {
        "colab": {
          "base_uri": "https://localhost:8080/",
          "height": 564
        },
        "id": "DcRnV7Y9pWbt",
        "outputId": "df30cd73-3324-4429-dcee-dcac643f27be"
      },
      "outputs": [
        {
          "data": {
            "image/png": "[encoded data removed]",
            "text/plain": [
              "<Figure size 1000x600 with 1 Axes>"
            ]
          },
          "metadata": {},
          "output_type": "display_data"
        }
      ],
      "source": [
        "# Plot the results\n",
        "plt.figure(figsize=(10, 6))\n",
        "for complexity, t in times.items():\n",
        "    plt.plot(n_values, t, label=complexity)\n",
        "\n",
        "plt.xlabel('Input Size n')\n",
        "plt.ylabel('Time (seconds)')\n",
        "plt.title('Big O Complexity')\n",
        "plt.legend()\n",
        "plt.grid(True)\n",
        "plt.ylim(0, 0.00001)\n",
        "plt.show()\n"
      ]
    },
    {
      "cell_type": "markdown",
      "metadata": {
        "id": "mVzLzQgBpWbt"
      },
      "source": [
        "<img src=\"images/BigO.png\" alt=\"\" title=\"Título opcional\" width=\"50%\" height=\"10%\"/>"
      ]
    },
    {
      "cell_type": "code",
      "execution_count": null,
      "metadata": {
        "colab": {
          "base_uri": "https://localhost:8080/"
        },
        "id": "KpALUvgKpWbt",
        "outputId": "d6b411da-d681-436f-d1b5-25cfa3da71ac"
      },
      "outputs": [
        {
          "name": "stdout",
          "output_type": "stream",
          "text": [
            "Time for O(n) complexity with n=10^8:  6.995103120803833\n"
          ]
        }
      ],
      "source": [
        "start_time = time.time()\n",
        "linear_complexity(10**8)\n",
        "print(\"Time for O(n) complexity with n=10^8: \", time.time() - start_time)"
      ]
    },
    {
      "cell_type": "code",
      "execution_count": null,
      "metadata": {
        "id": "nDYzqEvIuQWn"
      },
      "outputs": [],
      "source": []
    },
    {
      "cell_type": "markdown",
      "metadata": {
        "id": "jpppCWVQv0A_"
      },
      "source": [
        "### Interesting resources\n",
        "- [BigO Examples](https://www.geeksforgeeks.org/analysis-algorithms-big-o-analysis/):\n",
        "- [ML models complexity algorithms analysis](https://medium.com/analytics-vidhya/time-complexity-of-ml-models-4ec39fad2770):\n",
        "- [ML models complexity proposals](https://www.linkedin.com/feed/update/urn:li:activity:7156598188836048896?utm_source=share&utm_medium=member_android)"
      ]
    },
    {
      "cell_type": "code",
      "execution_count": null,
      "metadata": {
        "id": "B9B-tJIWv2pA"
      },
      "outputs": [],
      "source": []
    },
    {
      "cell_type": "markdown",
      "metadata": {
        "id": "B4gB2MeqpgDe"
      },
      "source": [
        "## Templates - Theory of Computation - BigO Notation Practice Contest"
      ]
    },
    {
      "cell_type": "markdown",
      "metadata": {
        "id": "Y3hCsGmJrYxH"
      },
      "source": [
        "### \tLevel 0 - Odd Sum"
      ]
    },
    {
      "cell_type": "code",
      "execution_count": null,
      "metadata": {
        "colab": {
          "base_uri": "https://localhost:8080/"
        },
        "id": "9qBJT8irpWbt",
        "outputId": "48a02a5a-8281-4c98-abfc-fa55944ff69f"
      },
      "outputs": [
        {
          "name": "stdout",
          "output_type": "stream",
          "text": [
            "1\n",
            "1\n",
            "5\n",
            "Case 1: -4\n"
          ]
        }
      ],
      "source": [
        "def solve_func(a, b):\n",
        "    ... # Your code goes here\n",
        "\n",
        "    return a - b # Replace a-b with you solution\n",
        "\n",
        "\n",
        "_t = int(input())\n",
        "\n",
        "for _i in range(_t):\n",
        "    _a = int(input())\n",
        "    _b = int(input())\n",
        "\n",
        "    _sol = solve_func(_a, _b)\n",
        "    print(f\"Case {_i + 1}: {_sol}\")\n"
      ]
    },
    {
      "cell_type": "markdown",
      "metadata": {
        "id": "iYCH38FvrbkZ"
      },
      "source": [
        "Level 1 - Sum of Cubes"
      ]
    },
    {
      "cell_type": "code",
      "execution_count": null,
      "metadata": {
        "colab": {
          "base_uri": "https://localhost:8080/"
        },
        "id": "_pgr8nCCrBG2",
        "outputId": "b1152e34-df08-4373-9505-0c66ee5a3c00"
      },
      "outputs": [
        {
          "name": "stdout",
          "output_type": "stream",
          "text": [
            "1\n",
            "2\n",
            "NO\n"
          ]
        }
      ],
      "source": [
        "def solve_func(x):\n",
        "    ... # Your code goes here\n",
        "\n",
        "    return \"NO\" # Replace \"NO\" with you solution\n",
        "\n",
        "\n",
        "t = int(input())\n",
        "\n",
        "for i in range(t):\n",
        "    x = int(input())\n",
        "\n",
        "    _sol = solve_func(x)\n",
        "    print(_sol)"
      ]
    },
    {
      "cell_type": "markdown",
      "metadata": {
        "id": "9F3mpkv1reE9"
      },
      "source": [
        "Level 2 - Simple Equations"
      ]
    },
    {
      "cell_type": "code",
      "execution_count": null,
      "metadata": {
        "colab": {
          "base_uri": "https://localhost:8080/"
        },
        "id": "bp7AcF4vreez",
        "outputId": "3fa43dd1-7a5d-492c-8c7f-4563e998fcd0"
      },
      "outputs": [
        {
          "name": "stdout",
          "output_type": "stream",
          "text": [
            "1\n",
            "1 2 3\n",
            "No solution.\n"
          ]
        }
      ],
      "source": [
        "def solve_func():\n",
        "    ... # Your code goes here\n",
        "\n",
        "    return \"No solution.\" # Replace \"No solution.\" with you solution\n",
        "\n",
        "n = int(input())\n",
        "for i in range(n):\n",
        "    A, B, C = [int(i) for i in input().split()]\n",
        "\n",
        "    _sol = solve_func()\n",
        "    print(_sol)"
      ]
    },
    {
      "cell_type": "markdown",
      "metadata": {
        "id": "wsSl2xk3rgIS"
      },
      "source": [
        "Level 3 - Three Powers"
      ]
    },
    {
      "cell_type": "code",
      "execution_count": null,
      "metadata": {
        "colab": {
          "base_uri": "https://localhost:8080/",
          "height": 495
        },
        "id": "coQO--mKrgsy",
        "outputId": "ca4e26ec-14da-4826-8578-e07f35f8e4e3"
      },
      "outputs": [
        {
          "name": "stdout",
          "output_type": "stream",
          "text": [
            "1\n",
            "{ }\n",
            "7\n",
            "{ 3, 9 }\n",
            "14\n",
            "{ 1, 9, 27 }\n",
            "783\n",
            "{ 3, 9, 27, 6561, 19683 }\n"
          ]
        },
        {
          "ename": "KeyboardInterrupt",
          "evalue": "Interrupted by user",
          "output_type": "error",
          "traceback": [
            "\u001b[0;31m---------------------------------------------------------------------------\u001b[0m",
            "\u001b[0;31mKeyboardInterrupt\u001b[0m                         Traceback (most recent call last)",
            "\u001b[0;32m<ipython-input-53-5a6827839140>\u001b[0m in \u001b[0;36m<cell line: 13>\u001b[0;34m()\u001b[0m\n\u001b[1;32m     12\u001b[0m \u001b[0;34m\u001b[0m\u001b[0m\n\u001b[1;32m     13\u001b[0m \u001b[0;32mwhile\u001b[0m \u001b[0;32mTrue\u001b[0m\u001b[0;34m:\u001b[0m\u001b[0;34m\u001b[0m\u001b[0;34m\u001b[0m\u001b[0m\n\u001b[0;32m---> 14\u001b[0;31m     \u001b[0mn\u001b[0m \u001b[0;34m=\u001b[0m \u001b[0mint\u001b[0m\u001b[0;34m(\u001b[0m\u001b[0minput\u001b[0m\u001b[0;34m(\u001b[0m\u001b[0;34m)\u001b[0m\u001b[0;34m)\u001b[0m\u001b[0;34m\u001b[0m\u001b[0;34m\u001b[0m\u001b[0m\n\u001b[0m\u001b[1;32m     15\u001b[0m     \u001b[0;32mif\u001b[0m \u001b[0mn\u001b[0m \u001b[0;34m==\u001b[0m \u001b[0;36m0\u001b[0m\u001b[0;34m:\u001b[0m \u001b[0;32mbreak\u001b[0m\u001b[0;34m\u001b[0m\u001b[0;34m\u001b[0m\u001b[0m\n\u001b[1;32m     16\u001b[0m     \u001b[0;32melif\u001b[0m \u001b[0mn\u001b[0m \u001b[0;34m==\u001b[0m \u001b[0;36m1\u001b[0m\u001b[0;34m:\u001b[0m\u001b[0;34m\u001b[0m\u001b[0;34m\u001b[0m\u001b[0m\n",
            "\u001b[0;32m/usr/local/lib/python3.10/dist-packages/ipykernel/kernelbase.py\u001b[0m in \u001b[0;36mraw_input\u001b[0;34m(self, prompt)\u001b[0m\n\u001b[1;32m    849\u001b[0m                 \u001b[0;34m\"raw_input was called, but this frontend does not support input requests.\"\u001b[0m\u001b[0;34m\u001b[0m\u001b[0;34m\u001b[0m\u001b[0m\n\u001b[1;32m    850\u001b[0m             )\n\u001b[0;32m--> 851\u001b[0;31m         return self._input_request(str(prompt),\n\u001b[0m\u001b[1;32m    852\u001b[0m             \u001b[0mself\u001b[0m\u001b[0;34m.\u001b[0m\u001b[0m_parent_ident\u001b[0m\u001b[0;34m,\u001b[0m\u001b[0;34m\u001b[0m\u001b[0;34m\u001b[0m\u001b[0m\n\u001b[1;32m    853\u001b[0m             \u001b[0mself\u001b[0m\u001b[0;34m.\u001b[0m\u001b[0m_parent_header\u001b[0m\u001b[0;34m,\u001b[0m\u001b[0;34m\u001b[0m\u001b[0;34m\u001b[0m\u001b[0m\n",
            "\u001b[0;32m/usr/local/lib/python3.10/dist-packages/ipykernel/kernelbase.py\u001b[0m in \u001b[0;36m_input_request\u001b[0;34m(self, prompt, ident, parent, password)\u001b[0m\n\u001b[1;32m    893\u001b[0m             \u001b[0;32mexcept\u001b[0m \u001b[0mKeyboardInterrupt\u001b[0m\u001b[0;34m:\u001b[0m\u001b[0;34m\u001b[0m\u001b[0;34m\u001b[0m\u001b[0m\n\u001b[1;32m    894\u001b[0m                 \u001b[0;31m# re-raise KeyboardInterrupt, to truncate traceback\u001b[0m\u001b[0;34m\u001b[0m\u001b[0;34m\u001b[0m\u001b[0m\n\u001b[0;32m--> 895\u001b[0;31m                 \u001b[0;32mraise\u001b[0m \u001b[0mKeyboardInterrupt\u001b[0m\u001b[0;34m(\u001b[0m\u001b[0;34m\"Interrupted by user\"\u001b[0m\u001b[0;34m)\u001b[0m \u001b[0;32mfrom\u001b[0m \u001b[0;32mNone\u001b[0m\u001b[0;34m\u001b[0m\u001b[0;34m\u001b[0m\u001b[0m\n\u001b[0m\u001b[1;32m    896\u001b[0m             \u001b[0;32mexcept\u001b[0m \u001b[0mException\u001b[0m \u001b[0;32mas\u001b[0m \u001b[0me\u001b[0m\u001b[0;34m:\u001b[0m\u001b[0;34m\u001b[0m\u001b[0;34m\u001b[0m\u001b[0m\n\u001b[1;32m    897\u001b[0m                 \u001b[0mself\u001b[0m\u001b[0;34m.\u001b[0m\u001b[0mlog\u001b[0m\u001b[0;34m.\u001b[0m\u001b[0mwarning\u001b[0m\u001b[0;34m(\u001b[0m\u001b[0;34m\"Invalid Message:\"\u001b[0m\u001b[0;34m,\u001b[0m \u001b[0mexc_info\u001b[0m\u001b[0;34m=\u001b[0m\u001b[0;32mTrue\u001b[0m\u001b[0;34m)\u001b[0m\u001b[0;34m\u001b[0m\u001b[0;34m\u001b[0m\u001b[0m\n",
            "\u001b[0;31mKeyboardInterrupt\u001b[0m: Interrupted by user"
          ]
        }
      ],
      "source": [
        "def solve_func(n):\n",
        "    ... # Your code goes here\n",
        "\n",
        "    return ''  # Replace '' with you solution\n",
        "\n",
        "# This will run forever (or until end of file), to stop execution press stop botton for the cell\n",
        "while True:\n",
        "    n = int(input())\n",
        "    if n == 0: break\n",
        "    elif n == 1:\n",
        "        print('{ }')\n",
        "        continue\n",
        "\n",
        "    _sol = solve_func(n)\n",
        "    print(_sol)"
      ]
    },
    {
      "cell_type": "code",
      "execution_count": null,
      "metadata": {
        "id": "PZsFBEd6tnxQ"
      },
      "outputs": [],
      "source": []
    }
  ],
  "metadata": {
    "colab": {
      "provenance": []
    },
    "kernelspec": {
      "display_name": "linear-algebra-py3.10",
      "language": "python",
      "name": "linear-algebra-py3.10"
    },
    "language_info": {
      "codemirror_mode": {
        "name": "ipython",
        "version": 3
      },
      "file_extension": ".py",
      "mimetype": "text/x-python",
      "name": "python",
      "nbconvert_exporter": "python",
      "pygments_lexer": "ipython3",
      "version": "3.10.12"
    }
  },
  "nbformat": 4,
  "nbformat_minor": 0
}
