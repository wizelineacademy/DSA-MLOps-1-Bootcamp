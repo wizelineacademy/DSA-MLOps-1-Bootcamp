{
 "cells": [
  {
   "cell_type": "markdown",
   "metadata": {},
   "source": [
    "## Finite Automata\n",
    "\n"
   ]
  },
  {
   "cell_type": "markdown",
   "metadata": {},
   "source": [
    "5 - Tuple\n",
    "\n",
    "$ M = (S, I, O, \\nu, \\omega)$\n",
    "\n",
    "* $S$ states\n",
    "* $O$ output alphabet\n",
    "* $I$ input alphabet\n",
    "\n",
    "$\\omega : S \\times I \\rightarrow O $\n",
    "\n",
    "$\\nu : S \\times I \\rightarrow S $"
   ]
  },
  {
   "cell_type": "code",
   "execution_count": 1,
   "metadata": {},
   "outputs": [],
   "source": [
    "states = [\"s0\",\"s1\",\"s2\"]\n",
    "alphabet = [0,1] # I and O\n",
    "\n",
    "# Transitions\n",
    "# (s0,0) -> 0 s0\n",
    "# (s0,1) -> 0 s1\n",
    "\n",
    "# (s1,0) -> 0 s2\n",
    "# (s1,1) -> 0 s1\n",
    "\n",
    "# (s2,0) -> 0 s0\n",
    "# (s2,1) -> 1 s1\n"
   ]
  },
  {
   "cell_type": "code",
   "execution_count": 2,
   "metadata": {},
   "outputs": [
    {
     "data": {
      "text/plain": [
       "1"
      ]
     },
     "execution_count": 2,
     "metadata": {},
     "output_type": "execute_result"
    }
   ],
   "source": [
    "#position of state\n",
    "states.index('s1')\n"
   ]
  },
  {
   "cell_type": "code",
   "execution_count": 3,
   "metadata": {},
   "outputs": [],
   "source": [
    "# Explicit formulation\n",
    "def nu(current_state,input_var):\n",
    "    numeric_state = states.index(current_state)\n",
    "    if numeric_state == 0:\n",
    "        if input_var ==0:\n",
    "            return states[0]\n",
    "        elif input_var ==1:\n",
    "            return states[1]\n",
    "    ## ... More cases\n",
    "\n"
   ]
  },
  {
   "cell_type": "markdown",
   "metadata": {},
   "source": [
    "## Solution\n",
    "build a matrix in which\n",
    "\n",
    "m[current_state][input_var] = [next_state,output]"
   ]
  },
  {
   "cell_type": "code",
   "execution_count": 4,
   "metadata": {},
   "outputs": [],
   "source": [
    "\n",
    "m = [[[0,0],[0,1]],\n",
    "        [[0,2],[0,1]],\n",
    "        [[0,0],[1,1]]]"
   ]
  },
  {
   "cell_type": "code",
   "execution_count": 5,
   "metadata": {},
   "outputs": [
    {
     "data": {
      "text/plain": [
       "[0, 1]"
      ]
     },
     "execution_count": 5,
     "metadata": {},
     "output_type": "execute_result"
    }
   ],
   "source": [
    "current_state = 0\n",
    "input_var = 1\n",
    "m[current_state][input_var]"
   ]
  },
  {
   "cell_type": "code",
   "execution_count": 6,
   "metadata": {},
   "outputs": [],
   "source": [
    "def nu(current_state,input_var):\n",
    "    numeric_state = states.index(current_state)\n",
    "    new_state = m[numeric_state][input_var][1]\n",
    "    return states[new_state]\n",
    "\n",
    "def omega(current_state,input_var):\n",
    "    numeric_state = states.index(current_state)\n",
    "    new_output = m[numeric_state][input_var][0]\n",
    "    return str(new_output)\n",
    "\n"
   ]
  },
  {
   "cell_type": "code",
   "execution_count": 7,
   "metadata": {},
   "outputs": [
    {
     "name": "stdout",
     "output_type": "stream",
     "text": [
      "s1 0\n"
     ]
    }
   ],
   "source": [
    "s=nu(\"s0\",1)\n",
    "o=omega(\"s0\",1)\n",
    "print(f\"{s} {o}\")\n",
    "\n"
   ]
  },
  {
   "cell_type": "code",
   "execution_count": 8,
   "metadata": {},
   "outputs": [],
   "source": [
    "def update(input_var):\n",
    "      global global_output, global_state\n",
    "      global_output += omega(global_state,input_var)\n",
    "      global_state = nu(global_state,input_var)"
   ]
  },
  {
   "cell_type": "code",
   "execution_count": 9,
   "metadata": {},
   "outputs": [
    {
     "name": "stdout",
     "output_type": "stream",
     "text": [
      "001 s1\n"
     ]
    }
   ],
   "source": [
    "string_input = \"101\"\n",
    "global_output=\"\"\n",
    "global_state = \"s0\"\n",
    "for char in string_input:\n",
    "      update(int(char))\n",
    "\n",
    "print(f\"{global_output} {global_state}\")"
   ]
  },
  {
   "cell_type": "code",
   "execution_count": null,
   "metadata": {},
   "outputs": [],
   "source": []
  },
  {
   "cell_type": "code",
   "execution_count": null,
   "metadata": {},
   "outputs": [],
   "source": []
  }
 ],
 "metadata": {
  "kernelspec": {
   "display_name": "temp3",
   "language": "python",
   "name": "temp3"
  },
  "language_info": {
   "codemirror_mode": {
    "name": "ipython",
    "version": 3
   },
   "file_extension": ".py",
   "mimetype": "text/x-python",
   "name": "python",
   "nbconvert_exporter": "python",
   "pygments_lexer": "ipython3",
   "version": "3.10.12"
  }
 },
 "nbformat": 4,
 "nbformat_minor": 2
}
