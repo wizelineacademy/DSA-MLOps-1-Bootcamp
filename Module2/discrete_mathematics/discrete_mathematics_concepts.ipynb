{
 "cells": [
  {
   "cell_type": "markdown",
   "metadata": {},
   "source": [
    "# Discrete Mathematics fundamentals"
   ]
  },
  {
   "cell_type": "code",
   "execution_count": 1,
   "metadata": {},
   "outputs": [],
   "source": [
    "import pandas as pd\n",
    "import numpy as np\n",
    "import random as rnd\n",
    "import graphviz\n",
    "import matplotlib.pyplot as plt\n",
    "\n",
    "from math import comb, perm, factorial\n",
    "from functools import reduce\n",
    "from dataclasses import dataclass, field\n",
    "from typing import List, Dict\n",
    "\n",
    "from collections import Counter\n",
    "from itertools import combinations, permutations"
   ]
  },
  {
   "cell_type": "markdown",
   "metadata": {},
   "source": [
    "## Set Theory\n",
    "---\n",
    "**Basic Definitions**: Set, element, subset, union, intersection, difference, complement."
   ]
  },
  {
   "cell_type": "code",
   "execution_count": 50,
   "metadata": {},
   "outputs": [],
   "source": [
    "# # Detalle de la clase set en python\n",
    "# help(set)"
   ]
  },
  {
   "cell_type": "markdown",
   "metadata": {},
   "source": [
    "#### Creation of a sets in Python:"
   ]
  },
  {
   "cell_type": "code",
   "execution_count": 3,
   "metadata": {},
   "outputs": [
    {
     "name": "stdout",
     "output_type": "stream",
     "text": [
      "Set A: {1, 2, 3, 4}\n",
      "Set B: {3, 4, 5, 6}\n"
     ]
    }
   ],
   "source": [
    "A = {1, 2, 3, 4} # Traditional notation\n",
    "B = set([3, 4, 5, 5, 6])  # Set class notation*\n",
    "\n",
    "print(\"Set A:\", A)\n",
    "print(\"Set B:\", B)"
   ]
  },
  {
   "cell_type": "code",
   "execution_count": 4,
   "metadata": {},
   "outputs": [
    {
     "name": "stdout",
     "output_type": "stream",
     "text": [
      "True\n",
      "False\n"
     ]
    }
   ],
   "source": [
    "# Verify if a value is in a set\n",
    "print(3 in A)  # True\n",
    "print(6 in A)  # False"
   ]
  },
  {
   "cell_type": "markdown",
   "metadata": {},
   "source": [
    "#### Looking for values a serie"
   ]
  },
  {
   "cell_type": "code",
   "execution_count": 5,
   "metadata": {},
   "outputs": [],
   "source": [
    "_age = [\n",
    "    rnd.randrange(0, 100) for _ in range(10)]\n",
    "\n",
    "_height = [\n",
    "    round(rnd.uniform(0.4, 2.5), 2) for _ in range(10)]"
   ]
  },
  {
   "cell_type": "code",
   "execution_count": 6,
   "metadata": {},
   "outputs": [
    {
     "name": "stdout",
     "output_type": "stream",
     "text": [
      "Age Serie:\n",
      "\n"
     ]
    },
    {
     "data": {
      "text/plain": [
       "0    64\n",
       "1    74\n",
       "2    29\n",
       "3    81\n",
       "4    65\n",
       "5    92\n",
       "6    93\n",
       "7    50\n",
       "8    90\n",
       "9     3\n",
       "Name: age, dtype: int64"
      ]
     },
     "execution_count": 6,
     "metadata": {},
     "output_type": "execute_result"
    }
   ],
   "source": [
    "age = pd.Series(_age, name=\"age\")  # Creation of a pandas serie\n",
    "print(\"Age Serie:\\n\")\n",
    "age"
   ]
  },
  {
   "cell_type": "markdown",
   "metadata": {},
   "source": [
    "#### Sorting\n",
    "---\n",
    "Quicksort explanation := https://www.youtube.com/watch?v=Vtckgz38QHs  \n",
    "Quicksort fun explanation := https://www.youtube.com/watch?v=3San3uKKHgg"
   ]
  },
  {
   "cell_type": "code",
   "execution_count": 44,
   "metadata": {},
   "outputs": [
    {
     "data": {
      "text/plain": [
       "9     3\n",
       "2    29\n",
       "7    50\n",
       "0    64\n",
       "4    65\n",
       "1    74\n",
       "3    81\n",
       "8    90\n",
       "5    92\n",
       "6    93\n",
       "Name: age, dtype: int64"
      ]
     },
     "execution_count": 44,
     "metadata": {},
     "output_type": "execute_result"
    }
   ],
   "source": [
    "sorted_age = age.sort_values(kind=\"quicksort\") # kind: {‘quicksort’, ‘mergesort’, ‘heapsort’, ‘stable’}, default ‘quicksort’\n",
    "sorted_age"
   ]
  },
  {
   "cell_type": "markdown",
   "metadata": {},
   "source": [
    "#### Creating subsets with slicing"
   ]
  },
  {
   "cell_type": "code",
   "execution_count": 55,
   "metadata": {},
   "outputs": [],
   "source": [
    "# print(sorted_age[:2])\n",
    "# print(sorted_age[2:])\n",
    "# print(sorted_age[-2:])\n",
    "# print(sorted_age[:-2])"
   ]
  },
  {
   "cell_type": "code",
   "execution_count": 56,
   "metadata": {},
   "outputs": [
    {
     "data": {
      "text/plain": [
       "5    92\n",
       "6    93\n",
       "Name: age, dtype: int64"
      ]
     },
     "execution_count": 56,
     "metadata": {},
     "output_type": "execute_result"
    }
   ],
   "source": [
    "age[age.isin(sorted_age[-2:])]  # Extract oldest people"
   ]
  },
  {
   "cell_type": "markdown",
   "metadata": {},
   "source": [
    "#### Looking for values in a dataframe"
   ]
  },
  {
   "cell_type": "code",
   "execution_count": 10,
   "metadata": {},
   "outputs": [
    {
     "name": "stdout",
     "output_type": "stream",
     "text": [
      "Dataframe D:\n",
      "\n"
     ]
    },
    {
     "data": {
      "text/html": [
       "<div>\n",
       "<style scoped>\n",
       "    .dataframe tbody tr th:only-of-type {\n",
       "        vertical-align: middle;\n",
       "    }\n",
       "\n",
       "    .dataframe tbody tr th {\n",
       "        vertical-align: top;\n",
       "    }\n",
       "\n",
       "    .dataframe thead th {\n",
       "        text-align: right;\n",
       "    }\n",
       "</style>\n",
       "<table border=\"1\" class=\"dataframe\">\n",
       "  <thead>\n",
       "    <tr style=\"text-align: right;\">\n",
       "      <th></th>\n",
       "      <th>age</th>\n",
       "      <th>height</th>\n",
       "    </tr>\n",
       "  </thead>\n",
       "  <tbody>\n",
       "    <tr>\n",
       "      <th>0</th>\n",
       "      <td>64</td>\n",
       "      <td>2.27</td>\n",
       "    </tr>\n",
       "    <tr>\n",
       "      <th>1</th>\n",
       "      <td>74</td>\n",
       "      <td>0.74</td>\n",
       "    </tr>\n",
       "    <tr>\n",
       "      <th>2</th>\n",
       "      <td>29</td>\n",
       "      <td>2.35</td>\n",
       "    </tr>\n",
       "    <tr>\n",
       "      <th>3</th>\n",
       "      <td>81</td>\n",
       "      <td>2.37</td>\n",
       "    </tr>\n",
       "    <tr>\n",
       "      <th>4</th>\n",
       "      <td>65</td>\n",
       "      <td>2.15</td>\n",
       "    </tr>\n",
       "    <tr>\n",
       "      <th>5</th>\n",
       "      <td>92</td>\n",
       "      <td>2.42</td>\n",
       "    </tr>\n",
       "    <tr>\n",
       "      <th>6</th>\n",
       "      <td>93</td>\n",
       "      <td>0.99</td>\n",
       "    </tr>\n",
       "    <tr>\n",
       "      <th>7</th>\n",
       "      <td>50</td>\n",
       "      <td>1.29</td>\n",
       "    </tr>\n",
       "    <tr>\n",
       "      <th>8</th>\n",
       "      <td>90</td>\n",
       "      <td>2.38</td>\n",
       "    </tr>\n",
       "    <tr>\n",
       "      <th>9</th>\n",
       "      <td>3</td>\n",
       "      <td>1.90</td>\n",
       "    </tr>\n",
       "  </tbody>\n",
       "</table>\n",
       "</div>"
      ],
      "text/plain": [
       "   age  height\n",
       "0   64    2.27\n",
       "1   74    0.74\n",
       "2   29    2.35\n",
       "3   81    2.37\n",
       "4   65    2.15\n",
       "5   92    2.42\n",
       "6   93    0.99\n",
       "7   50    1.29\n",
       "8   90    2.38\n",
       "9    3    1.90"
      ]
     },
     "execution_count": 10,
     "metadata": {},
     "output_type": "execute_result"
    }
   ],
   "source": [
    "sample = pd.DataFrame(\n",
    "    data={ \"age\": _age, \"height\": _height } )  # Creation of a pandas dataframe\n",
    "print(\"Dataframe D:\\n\")\n",
    "sample"
   ]
  },
  {
   "cell_type": "code",
   "execution_count": 11,
   "metadata": {},
   "outputs": [
    {
     "data": {
      "text/html": [
       "<div>\n",
       "<style scoped>\n",
       "    .dataframe tbody tr th:only-of-type {\n",
       "        vertical-align: middle;\n",
       "    }\n",
       "\n",
       "    .dataframe tbody tr th {\n",
       "        vertical-align: top;\n",
       "    }\n",
       "\n",
       "    .dataframe thead th {\n",
       "        text-align: right;\n",
       "    }\n",
       "</style>\n",
       "<table border=\"1\" class=\"dataframe\">\n",
       "  <thead>\n",
       "    <tr style=\"text-align: right;\">\n",
       "      <th></th>\n",
       "      <th>age</th>\n",
       "      <th>height</th>\n",
       "    </tr>\n",
       "  </thead>\n",
       "  <tbody>\n",
       "    <tr>\n",
       "      <th>5</th>\n",
       "      <td>92</td>\n",
       "      <td>2.42</td>\n",
       "    </tr>\n",
       "    <tr>\n",
       "      <th>6</th>\n",
       "      <td>93</td>\n",
       "      <td>0.99</td>\n",
       "    </tr>\n",
       "  </tbody>\n",
       "</table>\n",
       "</div>"
      ],
      "text/plain": [
       "   age  height\n",
       "5   92    2.42\n",
       "6   93    0.99"
      ]
     },
     "execution_count": 11,
     "metadata": {},
     "output_type": "execute_result"
    }
   ],
   "source": [
    "sample[\n",
    "    sample.age.isin( sorted_age[-2:] )]  # Extract oldest people"
   ]
  },
  {
   "cell_type": "markdown",
   "metadata": {},
   "source": [
    "**Set Operations:** Union (∪), intersection (∩), difference (-), symmetric difference, complement."
   ]
  },
  {
   "cell_type": "code",
   "execution_count": 12,
   "metadata": {},
   "outputs": [
    {
     "name": "stdout",
     "output_type": "stream",
     "text": [
      "{1, 2, 3, 4}\n",
      "{3, 4, 5, 6}\n"
     ]
    }
   ],
   "source": [
    "print(A)\n",
    "print(B)"
   ]
  },
  {
   "cell_type": "code",
   "execution_count": 13,
   "metadata": {},
   "outputs": [
    {
     "name": "stdout",
     "output_type": "stream",
     "text": [
      "Unión (A U B): {1, 2, 3, 4, 5, 6}\n",
      "Unión (A | B): {1, 2, 3, 4, 5, 6}\n"
     ]
    }
   ],
   "source": [
    "# Set union\n",
    "union = A.union(B)\n",
    "print(\"Unión (A U B):\", union)\n",
    "print(\"Unión (A | B):\", A | B)\n"
   ]
  },
  {
   "cell_type": "code",
   "execution_count": 14,
   "metadata": {},
   "outputs": [
    {
     "name": "stdout",
     "output_type": "stream",
     "text": [
      "Intersección (A ∩ B): {3, 4}\n",
      "Intersección (A & B): {3, 4}\n"
     ]
    }
   ],
   "source": [
    "# Set intersection\n",
    "interseccion = A.intersection(B)\n",
    "print(\"Intersección (A ∩ B):\", interseccion)\n",
    "print(\"Intersección (A & B):\", A & B)"
   ]
  },
  {
   "cell_type": "code",
   "execution_count": 15,
   "metadata": {},
   "outputs": [
    {
     "name": "stdout",
     "output_type": "stream",
     "text": [
      "Diferencia (A - B): {1, 2}\n",
      "Diferencia (A - B): {1, 2}\n"
     ]
    }
   ],
   "source": [
    "# Set difference\n",
    "diferencia = A.difference(B)\n",
    "print(\"Diferencia (A - B):\", diferencia)\n",
    "print(\"Diferencia (A - B):\", A - B)\n"
   ]
  },
  {
   "cell_type": "code",
   "execution_count": 16,
   "metadata": {},
   "outputs": [
    {
     "name": "stdout",
     "output_type": "stream",
     "text": [
      "Complemento de A: {5, 6, 7, 8, 9, 10}\n",
      "Complemento de A (U - A): {5, 6, 7, 8, 9, 10}\n"
     ]
    }
   ],
   "source": [
    "# Assumption: U is the universe of elements\n",
    "U = {1, 2, 3, 4, 5, 6, 7, 8, 9, 10}\n",
    "\n",
    "# Complement of A in U\n",
    "complemento = U.difference(A)\n",
    "print(\"Complemento de A:\", complemento)\n",
    "print(\"Complemento de A (U - A):\", U - A)\n"
   ]
  },
  {
   "cell_type": "markdown",
   "metadata": {},
   "source": [
    "<img src=\"images/join_types.jpg\" alt=\"SQL Joins\" title=\"Título opcional\" width=\"40%\" height=\"60%\"/>"
   ]
  },
  {
   "cell_type": "markdown",
   "metadata": {},
   "source": [
    "- INNER JOIN := A ∩ B  \n",
    "- LEFT JOIN := (A - B) u (A ∩ B)  \n",
    "- LEFT JOIN EXCLUDING INNER JOIN := (A - B)  \n",
    "- FULL OUTER JOIN := A U B  \n",
    "- FULL OUTER JOIN EXCLUDING INNER JOIN := (A U B) u (A ∩ B)  "
   ]
  },
  {
   "cell_type": "markdown",
   "metadata": {},
   "source": [
    "#### Cartesian product - Cross join\n",
    "---\n",
    "A x B := {(a, b) | a ∈ A and b ∈ B}"
   ]
  },
  {
   "cell_type": "markdown",
   "metadata": {},
   "source": [
    "<img src=\"images/cartesian_product.jpg\" alt=\"Cartesian product\" title=\"Título opcional\" width=\"30%\" height=\"40%\"/>"
   ]
  },
  {
   "cell_type": "code",
   "execution_count": 17,
   "metadata": {},
   "outputs": [],
   "source": [
    "# Create the list of players from group A\n",
    "group_A = pd.DataFrame({\n",
    "    'Jugador_Grupo_A': ['Alice', 'Bob']\n",
    "})\n",
    "\n",
    "# Create the list of players from group B\n",
    "group_B = pd.DataFrame({\n",
    "    'Jugador_Grupo_B': ['Clara', 'Dave', 'Eva']\n",
    "})"
   ]
  },
  {
   "cell_type": "code",
   "execution_count": 18,
   "metadata": {},
   "outputs": [
    {
     "data": {
      "text/html": [
       "<div>\n",
       "<style scoped>\n",
       "    .dataframe tbody tr th:only-of-type {\n",
       "        vertical-align: middle;\n",
       "    }\n",
       "\n",
       "    .dataframe tbody tr th {\n",
       "        vertical-align: top;\n",
       "    }\n",
       "\n",
       "    .dataframe thead th {\n",
       "        text-align: right;\n",
       "    }\n",
       "</style>\n",
       "<table border=\"1\" class=\"dataframe\">\n",
       "  <thead>\n",
       "    <tr style=\"text-align: right;\">\n",
       "      <th></th>\n",
       "      <th>Jugador_Grupo_A</th>\n",
       "      <th>Jugador_Grupo_B</th>\n",
       "    </tr>\n",
       "  </thead>\n",
       "  <tbody>\n",
       "    <tr>\n",
       "      <th>0</th>\n",
       "      <td>Alice</td>\n",
       "      <td>Clara</td>\n",
       "    </tr>\n",
       "    <tr>\n",
       "      <th>1</th>\n",
       "      <td>Alice</td>\n",
       "      <td>Dave</td>\n",
       "    </tr>\n",
       "    <tr>\n",
       "      <th>2</th>\n",
       "      <td>Alice</td>\n",
       "      <td>Eva</td>\n",
       "    </tr>\n",
       "    <tr>\n",
       "      <th>3</th>\n",
       "      <td>Bob</td>\n",
       "      <td>Clara</td>\n",
       "    </tr>\n",
       "    <tr>\n",
       "      <th>4</th>\n",
       "      <td>Bob</td>\n",
       "      <td>Dave</td>\n",
       "    </tr>\n",
       "    <tr>\n",
       "      <th>5</th>\n",
       "      <td>Bob</td>\n",
       "      <td>Eva</td>\n",
       "    </tr>\n",
       "  </tbody>\n",
       "</table>\n",
       "</div>"
      ],
      "text/plain": [
       "  Jugador_Grupo_A Jugador_Grupo_B\n",
       "0           Alice           Clara\n",
       "1           Alice            Dave\n",
       "2           Alice             Eva\n",
       "3             Bob           Clara\n",
       "4             Bob            Dave\n",
       "5             Bob             Eva"
      ]
     },
     "execution_count": 18,
     "metadata": {},
     "output_type": "execute_result"
    }
   ],
   "source": [
    "partidas = group_A.merge(group_B, how='cross')\n",
    "partidas"
   ]
  },
  {
   "cell_type": "markdown",
   "metadata": {},
   "source": [
    "#### Hilbert paradox\n",
    "---\n",
    "[Youtube Link](https://www.youtube.com/watch?v=Uj3_KqkI9Zo)"
   ]
  },
  {
   "cell_type": "markdown",
   "metadata": {},
   "source": [
    "## Logic\n",
    "---\n",
    "**Basic Definitions:** Propositions, logical connectives (AND, OR, NOT, XOR), truth tables.\n",
    "\n",
    "- Xor := ^  \n",
    "- Not := ~  \n",
    "- And := & or &&  \n",
    "- Or := | or ||  "
   ]
  },
  {
   "cell_type": "code",
   "execution_count": 19,
   "metadata": {},
   "outputs": [],
   "source": [
    "true_values = [True, False]"
   ]
  },
  {
   "cell_type": "code",
   "execution_count": 20,
   "metadata": {},
   "outputs": [],
   "source": [
    "# Operator AND\n",
    "def and_op(a, b):\n",
    "    return a and b\n",
    "\n",
    "# Operator OR\n",
    "def or_op(a, b):\n",
    "    return a or b\n",
    "\n",
    "# Operator NOT (Apply to a single value)\n",
    "def not_op(a):\n",
    "    return not a\n",
    "\n",
    "# Operator XOR\n",
    "def xor_op(a, b):\n",
    "    return a ^ b"
   ]
  },
  {
   "cell_type": "code",
   "execution_count": 21,
   "metadata": {},
   "outputs": [
    {
     "name": "stdout",
     "output_type": "stream",
     "text": [
      "True table for AND\n",
      "A\tB\tA AND B\n",
      "True\tTrue\tTrue\n",
      "True\tFalse\tFalse\n",
      "False\tTrue\tFalse\n",
      "False\tFalse\tFalse\n",
      "\n",
      "True table for OR\n",
      "A\tB\tA OR B\n",
      "True\tTrue\tTrue\n",
      "True\tFalse\tTrue\n",
      "False\tTrue\tTrue\n",
      "False\tFalse\tFalse\n",
      "\n",
      "True table for NOT\n",
      "A\tNOT A\n",
      "True\tFalse\n",
      "False\tTrue\n",
      "\n",
      "True table for XOR\n",
      "A\tB\tA XOR B\n",
      "True\tTrue\tFalse\n",
      "True\tFalse\tTrue\n",
      "False\tTrue\tTrue\n",
      "False\tFalse\tFalse\n"
     ]
    }
   ],
   "source": [
    "print(\"True table for AND\")\n",
    "print(\"A\\tB\\tA AND B\")\n",
    "for a in true_values:\n",
    "    for b in true_values:\n",
    "        print(a, b, and_op(a, b), sep='\\t')\n",
    "\n",
    "print(\"\\nTrue table for OR\")\n",
    "print(\"A\\tB\\tA OR B\")\n",
    "for a in true_values:\n",
    "    for b in true_values:\n",
    "        print(a, b, or_op(a, b), sep='\\t')\n",
    "\n",
    "print(\"\\nTrue table for NOT\")\n",
    "print(\"A\\tNOT A\")\n",
    "for a in true_values:\n",
    "    print(a, not_op(a), sep='\\t')\n",
    "\n",
    "print(\"\\nTrue table for XOR\")\n",
    "print(\"A\\tB\\tA XOR B\")\n",
    "for a in true_values:\n",
    "    for b in true_values:\n",
    "        print(a, b, xor_op(a, b), sep='\\t')\n"
   ]
  },
  {
   "cell_type": "markdown",
   "metadata": {},
   "source": [
    "**Predicate Logic:** Quantifiers (universal ∀, existential ∃).\n",
    "\n",
    "---\n",
    "For all := all  \n",
    "Exits := any"
   ]
  },
  {
   "cell_type": "code",
   "execution_count": 22,
   "metadata": {},
   "outputs": [
    {
     "data": {
      "text/plain": [
       "array([64, 74, 29, 81, 65, 92, 93, 50, 90,  3])"
      ]
     },
     "execution_count": 22,
     "metadata": {},
     "output_type": "execute_result"
    }
   ],
   "source": [
    "age_array = np.array(_age)\n",
    "age_array"
   ]
  },
  {
   "cell_type": "code",
   "execution_count": 23,
   "metadata": {},
   "outputs": [
    {
     "data": {
      "text/plain": [
       "(False, False)"
      ]
     },
     "execution_count": 23,
     "metadata": {},
     "output_type": "execute_result"
    }
   ],
   "source": [
    "all(age_array > 10), all(age_array < 0)"
   ]
  },
  {
   "cell_type": "code",
   "execution_count": 24,
   "metadata": {},
   "outputs": [
    {
     "data": {
      "text/plain": [
       "(True, False)"
      ]
     },
     "execution_count": 24,
     "metadata": {},
     "output_type": "execute_result"
    }
   ],
   "source": [
    "any(age_array > 10), any(age_array > 100)"
   ]
  },
  {
   "cell_type": "markdown",
   "metadata": {},
   "source": [
    "### Rules to recommend a movie"
   ]
  },
  {
   "cell_type": "code",
   "execution_count": 25,
   "metadata": {},
   "outputs": [
    {
     "name": "stdout",
     "output_type": "stream",
     "text": [
      "Like\t\tTranding\tHigh Rating\tRecommend\n",
      "---------------------------------------------------------\n",
      "True\t\tTrue\t\tTrue\t\tTrue\n",
      "True\t\tTrue\t\tFalse\t\tTrue\n",
      "True\t\tFalse\t\tTrue\t\tTrue\n",
      "True\t\tFalse\t\tFalse\t\tFalse\n",
      "False\t\tTrue\t\tTrue\t\tFalse\n",
      "False\t\tTrue\t\tFalse\t\tFalse\n",
      "False\t\tFalse\t\tTrue\t\tFalse\n",
      "False\t\tFalse\t\tFalse\t\tFalse\n"
     ]
    }
   ],
   "source": [
    "def movie_recommender():\n",
    "    print(\"Like\\t\\tTranding\\tHigh Rating\\tRecommend\")\n",
    "    print(\"---------------------------------------------------------\")\n",
    "    for like in [True, False]:\n",
    "        for trending in [True, False]:\n",
    "            for high_rating in [True, False]:\n",
    "                recommend = (like and high_rating) or (like and trending)\n",
    "                print(like, trending, high_rating, recommend, sep='\\t\\t')\n",
    "\n",
    "movie_recommender()"
   ]
  },
  {
   "cell_type": "markdown",
   "metadata": {},
   "source": [
    "## Counting theory\n",
    "---\n",
    "**Fundamental Counting Principle:** Product rule"
   ]
  },
  {
   "cell_type": "code",
   "execution_count": 26,
   "metadata": {},
   "outputs": [
    {
     "data": {
      "text/plain": [
       "'images/product_rule_graph.png'"
      ]
     },
     "execution_count": 26,
     "metadata": {},
     "output_type": "execute_result"
    }
   ],
   "source": [
    "history_books = 3\n",
    "novels = 2\n",
    "science_books = 3\n",
    "\n",
    "dot = graphviz.Digraph(format='png')\n",
    "dot.attr(rankdir='LR')\n",
    "\n",
    "dot.node('Persona', shape='ellipse', label='Persona')\n",
    "\n",
    "# Adding nodes and edges\n",
    "for i in range(1, history_books + 1):\n",
    "    dot.node(f'Historia {i}', shape='box', label=f'Opción {i} de Historia')\n",
    "    dot.edge('Persona', f'Historia {i}')\n",
    "    for j in range(1, novels + 1):\n",
    "        dot.node(f'Novela {i}-{j}', shape='box', label=f'Opción {j} de Novela')\n",
    "        dot.edge(f'Historia {i}', f'Novela {i}-{j}')\n",
    "        for k in range(1, 3):\n",
    "            dot.node(f'Ciencia {i}-{j}-{k}', shape='box', label=f'Opción {k} de Ciencia')\n",
    "            dot.edge(f'Novela {i}-{j}', f'Ciencia {i}-{j}-{k}')\n",
    "\n",
    "# Generate image\n",
    "dot.render('images/product_rule_graph', view=False)"
   ]
  },
  {
   "cell_type": "markdown",
   "metadata": {},
   "source": [
    "<img src=\"images/product_rule_graph.png\" alt=\"product_rule_graph\" title=\"Título opcional\" width=\"30%\" height=\"40%\"/>"
   ]
  },
  {
   "cell_type": "markdown",
   "metadata": {},
   "source": [
    "**Factorial, Permutations and Combinations:** "
   ]
  },
  {
   "cell_type": "code",
   "execution_count": 27,
   "metadata": {},
   "outputs": [
    {
     "name": "stdout",
     "output_type": "stream",
     "text": [
      "[1, 1, 2, 3, 4, 5, 6]\n"
     ]
    },
    {
     "data": {
      "text/plain": [
       "(720, 720)"
      ]
     },
     "execution_count": 27,
     "metadata": {},
     "output_type": "execute_result"
    }
   ],
   "source": [
    "n = 6\n",
    "elements = [i if i != 0 else 1 for i in range(0, n + 1)]\n",
    "print(elements)\n",
    "factorial(n), reduce(lambda x, y: x * y, elements)"
   ]
  },
  {
   "cell_type": "code",
   "execution_count": 28,
   "metadata": {},
   "outputs": [
    {
     "name": "stdout",
     "output_type": "stream",
     "text": [
      "El número de formas en que se pueden permutar los 3 primeros lugares entre 10 participantes es: 720\n",
      "List of permutations: [('A', 'B', 'C'), ('A', 'B', 'D'), ('A', 'B', 'E'), ('A', 'B', 'F'), ('A', 'B', 'G'), ('A', 'B', 'H'), ('A', 'B', 'I'), ('A', 'B', 'J'), ('A', 'C', 'B'), ('A', 'C', 'D'), ('A', 'C', 'E'), ('A', 'C', 'F'), ('A', 'C', 'G'), ('A', 'C', 'H'), ('A', 'C', 'I'), ('A', 'C', 'J'), ('A', 'D', 'B'), ('A', 'D', 'C'), ('A', 'D', 'E'), ('A', 'D', 'F'), ('A', 'D', 'G'), ('A', 'D', 'H'), ('A', 'D', 'I'), ('A', 'D', 'J'), ('A', 'E', 'B'), ('A', 'E', 'C'), ('A', 'E', 'D'), ('A', 'E', 'F'), ('A', 'E', 'G'), ('A', 'E', 'H'), ('A', 'E', 'I'), ('A', 'E', 'J'), ('A', 'F', 'B'), ('A', 'F', 'C'), ('A', 'F', 'D'), ('A', 'F', 'E'), ('A', 'F', 'G'), ('A', 'F', 'H'), ('A', 'F', 'I'), ('A', 'F', 'J'), ('A', 'G', 'B'), ('A', 'G', 'C'), ('A', 'G', 'D'), ('A', 'G', 'E'), ('A', 'G', 'F'), ('A', 'G', 'H'), ('A', 'G', 'I'), ('A', 'G', 'J'), ('A', 'H', 'B'), ('A', 'H', 'C'), ('A', 'H', 'D'), ('A', 'H', 'E'), ('A', 'H', 'F'), ('A', 'H', 'G'), ('A', 'H', 'I'), ('A', 'H', 'J'), ('A', 'I', 'B'), ('A', 'I', 'C'), ('A', 'I', 'D'), ('A', 'I', 'E'), ('A', 'I', 'F'), ('A', 'I', 'G'), ('A', 'I', 'H'), ('A', 'I', 'J'), ('A', 'J', 'B'), ('A', 'J', 'C'), ('A', 'J', 'D'), ('A', 'J', 'E'), ('A', 'J', 'F'), ('A', 'J', 'G'), ('A', 'J', 'H'), ('A', 'J', 'I'), ('B', 'A', 'C'), ('B', 'A', 'D'), ('B', 'A', 'E'), ('B', 'A', 'F'), ('B', 'A', 'G'), ('B', 'A', 'H'), ('B', 'A', 'I'), ('B', 'A', 'J'), ('B', 'C', 'A'), ('B', 'C', 'D'), ('B', 'C', 'E'), ('B', 'C', 'F'), ('B', 'C', 'G'), ('B', 'C', 'H'), ('B', 'C', 'I'), ('B', 'C', 'J'), ('B', 'D', 'A'), ('B', 'D', 'C'), ('B', 'D', 'E'), ('B', 'D', 'F'), ('B', 'D', 'G'), ('B', 'D', 'H'), ('B', 'D', 'I'), ('B', 'D', 'J'), ('B', 'E', 'A'), ('B', 'E', 'C'), ('B', 'E', 'D'), ('B', 'E', 'F'), ('B', 'E', 'G'), ('B', 'E', 'H'), ('B', 'E', 'I'), ('B', 'E', 'J'), ('B', 'F', 'A'), ('B', 'F', 'C'), ('B', 'F', 'D'), ('B', 'F', 'E'), ('B', 'F', 'G'), ('B', 'F', 'H'), ('B', 'F', 'I'), ('B', 'F', 'J'), ('B', 'G', 'A'), ('B', 'G', 'C'), ('B', 'G', 'D'), ('B', 'G', 'E'), ('B', 'G', 'F'), ('B', 'G', 'H'), ('B', 'G', 'I'), ('B', 'G', 'J'), ('B', 'H', 'A'), ('B', 'H', 'C'), ('B', 'H', 'D'), ('B', 'H', 'E'), ('B', 'H', 'F'), ('B', 'H', 'G'), ('B', 'H', 'I'), ('B', 'H', 'J'), ('B', 'I', 'A'), ('B', 'I', 'C'), ('B', 'I', 'D'), ('B', 'I', 'E'), ('B', 'I', 'F'), ('B', 'I', 'G'), ('B', 'I', 'H'), ('B', 'I', 'J'), ('B', 'J', 'A'), ('B', 'J', 'C'), ('B', 'J', 'D'), ('B', 'J', 'E'), ('B', 'J', 'F'), ('B', 'J', 'G'), ('B', 'J', 'H'), ('B', 'J', 'I'), ('C', 'A', 'B'), ('C', 'A', 'D'), ('C', 'A', 'E'), ('C', 'A', 'F'), ('C', 'A', 'G'), ('C', 'A', 'H'), ('C', 'A', 'I'), ('C', 'A', 'J'), ('C', 'B', 'A'), ('C', 'B', 'D'), ('C', 'B', 'E'), ('C', 'B', 'F'), ('C', 'B', 'G'), ('C', 'B', 'H'), ('C', 'B', 'I'), ('C', 'B', 'J'), ('C', 'D', 'A'), ('C', 'D', 'B'), ('C', 'D', 'E'), ('C', 'D', 'F'), ('C', 'D', 'G'), ('C', 'D', 'H'), ('C', 'D', 'I'), ('C', 'D', 'J'), ('C', 'E', 'A'), ('C', 'E', 'B'), ('C', 'E', 'D'), ('C', 'E', 'F'), ('C', 'E', 'G'), ('C', 'E', 'H'), ('C', 'E', 'I'), ('C', 'E', 'J'), ('C', 'F', 'A'), ('C', 'F', 'B'), ('C', 'F', 'D'), ('C', 'F', 'E'), ('C', 'F', 'G'), ('C', 'F', 'H'), ('C', 'F', 'I'), ('C', 'F', 'J'), ('C', 'G', 'A'), ('C', 'G', 'B'), ('C', 'G', 'D'), ('C', 'G', 'E'), ('C', 'G', 'F'), ('C', 'G', 'H'), ('C', 'G', 'I'), ('C', 'G', 'J'), ('C', 'H', 'A'), ('C', 'H', 'B'), ('C', 'H', 'D'), ('C', 'H', 'E'), ('C', 'H', 'F'), ('C', 'H', 'G'), ('C', 'H', 'I'), ('C', 'H', 'J'), ('C', 'I', 'A'), ('C', 'I', 'B'), ('C', 'I', 'D'), ('C', 'I', 'E'), ('C', 'I', 'F'), ('C', 'I', 'G'), ('C', 'I', 'H'), ('C', 'I', 'J'), ('C', 'J', 'A'), ('C', 'J', 'B'), ('C', 'J', 'D'), ('C', 'J', 'E'), ('C', 'J', 'F'), ('C', 'J', 'G'), ('C', 'J', 'H'), ('C', 'J', 'I'), ('D', 'A', 'B'), ('D', 'A', 'C'), ('D', 'A', 'E'), ('D', 'A', 'F'), ('D', 'A', 'G'), ('D', 'A', 'H'), ('D', 'A', 'I'), ('D', 'A', 'J'), ('D', 'B', 'A'), ('D', 'B', 'C'), ('D', 'B', 'E'), ('D', 'B', 'F'), ('D', 'B', 'G'), ('D', 'B', 'H'), ('D', 'B', 'I'), ('D', 'B', 'J'), ('D', 'C', 'A'), ('D', 'C', 'B'), ('D', 'C', 'E'), ('D', 'C', 'F'), ('D', 'C', 'G'), ('D', 'C', 'H'), ('D', 'C', 'I'), ('D', 'C', 'J'), ('D', 'E', 'A'), ('D', 'E', 'B'), ('D', 'E', 'C'), ('D', 'E', 'F'), ('D', 'E', 'G'), ('D', 'E', 'H'), ('D', 'E', 'I'), ('D', 'E', 'J'), ('D', 'F', 'A'), ('D', 'F', 'B'), ('D', 'F', 'C'), ('D', 'F', 'E'), ('D', 'F', 'G'), ('D', 'F', 'H'), ('D', 'F', 'I'), ('D', 'F', 'J'), ('D', 'G', 'A'), ('D', 'G', 'B'), ('D', 'G', 'C'), ('D', 'G', 'E'), ('D', 'G', 'F'), ('D', 'G', 'H'), ('D', 'G', 'I'), ('D', 'G', 'J'), ('D', 'H', 'A'), ('D', 'H', 'B'), ('D', 'H', 'C'), ('D', 'H', 'E'), ('D', 'H', 'F'), ('D', 'H', 'G'), ('D', 'H', 'I'), ('D', 'H', 'J'), ('D', 'I', 'A'), ('D', 'I', 'B'), ('D', 'I', 'C'), ('D', 'I', 'E'), ('D', 'I', 'F'), ('D', 'I', 'G'), ('D', 'I', 'H'), ('D', 'I', 'J'), ('D', 'J', 'A'), ('D', 'J', 'B'), ('D', 'J', 'C'), ('D', 'J', 'E'), ('D', 'J', 'F'), ('D', 'J', 'G'), ('D', 'J', 'H'), ('D', 'J', 'I'), ('E', 'A', 'B'), ('E', 'A', 'C'), ('E', 'A', 'D'), ('E', 'A', 'F'), ('E', 'A', 'G'), ('E', 'A', 'H'), ('E', 'A', 'I'), ('E', 'A', 'J'), ('E', 'B', 'A'), ('E', 'B', 'C'), ('E', 'B', 'D'), ('E', 'B', 'F'), ('E', 'B', 'G'), ('E', 'B', 'H'), ('E', 'B', 'I'), ('E', 'B', 'J'), ('E', 'C', 'A'), ('E', 'C', 'B'), ('E', 'C', 'D'), ('E', 'C', 'F'), ('E', 'C', 'G'), ('E', 'C', 'H'), ('E', 'C', 'I'), ('E', 'C', 'J'), ('E', 'D', 'A'), ('E', 'D', 'B'), ('E', 'D', 'C'), ('E', 'D', 'F'), ('E', 'D', 'G'), ('E', 'D', 'H'), ('E', 'D', 'I'), ('E', 'D', 'J'), ('E', 'F', 'A'), ('E', 'F', 'B'), ('E', 'F', 'C'), ('E', 'F', 'D'), ('E', 'F', 'G'), ('E', 'F', 'H'), ('E', 'F', 'I'), ('E', 'F', 'J'), ('E', 'G', 'A'), ('E', 'G', 'B'), ('E', 'G', 'C'), ('E', 'G', 'D'), ('E', 'G', 'F'), ('E', 'G', 'H'), ('E', 'G', 'I'), ('E', 'G', 'J'), ('E', 'H', 'A'), ('E', 'H', 'B'), ('E', 'H', 'C'), ('E', 'H', 'D'), ('E', 'H', 'F'), ('E', 'H', 'G'), ('E', 'H', 'I'), ('E', 'H', 'J'), ('E', 'I', 'A'), ('E', 'I', 'B'), ('E', 'I', 'C'), ('E', 'I', 'D'), ('E', 'I', 'F'), ('E', 'I', 'G'), ('E', 'I', 'H'), ('E', 'I', 'J'), ('E', 'J', 'A'), ('E', 'J', 'B'), ('E', 'J', 'C'), ('E', 'J', 'D'), ('E', 'J', 'F'), ('E', 'J', 'G'), ('E', 'J', 'H'), ('E', 'J', 'I'), ('F', 'A', 'B'), ('F', 'A', 'C'), ('F', 'A', 'D'), ('F', 'A', 'E'), ('F', 'A', 'G'), ('F', 'A', 'H'), ('F', 'A', 'I'), ('F', 'A', 'J'), ('F', 'B', 'A'), ('F', 'B', 'C'), ('F', 'B', 'D'), ('F', 'B', 'E'), ('F', 'B', 'G'), ('F', 'B', 'H'), ('F', 'B', 'I'), ('F', 'B', 'J'), ('F', 'C', 'A'), ('F', 'C', 'B'), ('F', 'C', 'D'), ('F', 'C', 'E'), ('F', 'C', 'G'), ('F', 'C', 'H'), ('F', 'C', 'I'), ('F', 'C', 'J'), ('F', 'D', 'A'), ('F', 'D', 'B'), ('F', 'D', 'C'), ('F', 'D', 'E'), ('F', 'D', 'G'), ('F', 'D', 'H'), ('F', 'D', 'I'), ('F', 'D', 'J'), ('F', 'E', 'A'), ('F', 'E', 'B'), ('F', 'E', 'C'), ('F', 'E', 'D'), ('F', 'E', 'G'), ('F', 'E', 'H'), ('F', 'E', 'I'), ('F', 'E', 'J'), ('F', 'G', 'A'), ('F', 'G', 'B'), ('F', 'G', 'C'), ('F', 'G', 'D'), ('F', 'G', 'E'), ('F', 'G', 'H'), ('F', 'G', 'I'), ('F', 'G', 'J'), ('F', 'H', 'A'), ('F', 'H', 'B'), ('F', 'H', 'C'), ('F', 'H', 'D'), ('F', 'H', 'E'), ('F', 'H', 'G'), ('F', 'H', 'I'), ('F', 'H', 'J'), ('F', 'I', 'A'), ('F', 'I', 'B'), ('F', 'I', 'C'), ('F', 'I', 'D'), ('F', 'I', 'E'), ('F', 'I', 'G'), ('F', 'I', 'H'), ('F', 'I', 'J'), ('F', 'J', 'A'), ('F', 'J', 'B'), ('F', 'J', 'C'), ('F', 'J', 'D'), ('F', 'J', 'E'), ('F', 'J', 'G'), ('F', 'J', 'H'), ('F', 'J', 'I'), ('G', 'A', 'B'), ('G', 'A', 'C'), ('G', 'A', 'D'), ('G', 'A', 'E'), ('G', 'A', 'F'), ('G', 'A', 'H'), ('G', 'A', 'I'), ('G', 'A', 'J'), ('G', 'B', 'A'), ('G', 'B', 'C'), ('G', 'B', 'D'), ('G', 'B', 'E'), ('G', 'B', 'F'), ('G', 'B', 'H'), ('G', 'B', 'I'), ('G', 'B', 'J'), ('G', 'C', 'A'), ('G', 'C', 'B'), ('G', 'C', 'D'), ('G', 'C', 'E'), ('G', 'C', 'F'), ('G', 'C', 'H'), ('G', 'C', 'I'), ('G', 'C', 'J'), ('G', 'D', 'A'), ('G', 'D', 'B'), ('G', 'D', 'C'), ('G', 'D', 'E'), ('G', 'D', 'F'), ('G', 'D', 'H'), ('G', 'D', 'I'), ('G', 'D', 'J'), ('G', 'E', 'A'), ('G', 'E', 'B'), ('G', 'E', 'C'), ('G', 'E', 'D'), ('G', 'E', 'F'), ('G', 'E', 'H'), ('G', 'E', 'I'), ('G', 'E', 'J'), ('G', 'F', 'A'), ('G', 'F', 'B'), ('G', 'F', 'C'), ('G', 'F', 'D'), ('G', 'F', 'E'), ('G', 'F', 'H'), ('G', 'F', 'I'), ('G', 'F', 'J'), ('G', 'H', 'A'), ('G', 'H', 'B'), ('G', 'H', 'C'), ('G', 'H', 'D'), ('G', 'H', 'E'), ('G', 'H', 'F'), ('G', 'H', 'I'), ('G', 'H', 'J'), ('G', 'I', 'A'), ('G', 'I', 'B'), ('G', 'I', 'C'), ('G', 'I', 'D'), ('G', 'I', 'E'), ('G', 'I', 'F'), ('G', 'I', 'H'), ('G', 'I', 'J'), ('G', 'J', 'A'), ('G', 'J', 'B'), ('G', 'J', 'C'), ('G', 'J', 'D'), ('G', 'J', 'E'), ('G', 'J', 'F'), ('G', 'J', 'H'), ('G', 'J', 'I'), ('H', 'A', 'B'), ('H', 'A', 'C'), ('H', 'A', 'D'), ('H', 'A', 'E'), ('H', 'A', 'F'), ('H', 'A', 'G'), ('H', 'A', 'I'), ('H', 'A', 'J'), ('H', 'B', 'A'), ('H', 'B', 'C'), ('H', 'B', 'D'), ('H', 'B', 'E'), ('H', 'B', 'F'), ('H', 'B', 'G'), ('H', 'B', 'I'), ('H', 'B', 'J'), ('H', 'C', 'A'), ('H', 'C', 'B'), ('H', 'C', 'D'), ('H', 'C', 'E'), ('H', 'C', 'F'), ('H', 'C', 'G'), ('H', 'C', 'I'), ('H', 'C', 'J'), ('H', 'D', 'A'), ('H', 'D', 'B'), ('H', 'D', 'C'), ('H', 'D', 'E'), ('H', 'D', 'F'), ('H', 'D', 'G'), ('H', 'D', 'I'), ('H', 'D', 'J'), ('H', 'E', 'A'), ('H', 'E', 'B'), ('H', 'E', 'C'), ('H', 'E', 'D'), ('H', 'E', 'F'), ('H', 'E', 'G'), ('H', 'E', 'I'), ('H', 'E', 'J'), ('H', 'F', 'A'), ('H', 'F', 'B'), ('H', 'F', 'C'), ('H', 'F', 'D'), ('H', 'F', 'E'), ('H', 'F', 'G'), ('H', 'F', 'I'), ('H', 'F', 'J'), ('H', 'G', 'A'), ('H', 'G', 'B'), ('H', 'G', 'C'), ('H', 'G', 'D'), ('H', 'G', 'E'), ('H', 'G', 'F'), ('H', 'G', 'I'), ('H', 'G', 'J'), ('H', 'I', 'A'), ('H', 'I', 'B'), ('H', 'I', 'C'), ('H', 'I', 'D'), ('H', 'I', 'E'), ('H', 'I', 'F'), ('H', 'I', 'G'), ('H', 'I', 'J'), ('H', 'J', 'A'), ('H', 'J', 'B'), ('H', 'J', 'C'), ('H', 'J', 'D'), ('H', 'J', 'E'), ('H', 'J', 'F'), ('H', 'J', 'G'), ('H', 'J', 'I'), ('I', 'A', 'B'), ('I', 'A', 'C'), ('I', 'A', 'D'), ('I', 'A', 'E'), ('I', 'A', 'F'), ('I', 'A', 'G'), ('I', 'A', 'H'), ('I', 'A', 'J'), ('I', 'B', 'A'), ('I', 'B', 'C'), ('I', 'B', 'D'), ('I', 'B', 'E'), ('I', 'B', 'F'), ('I', 'B', 'G'), ('I', 'B', 'H'), ('I', 'B', 'J'), ('I', 'C', 'A'), ('I', 'C', 'B'), ('I', 'C', 'D'), ('I', 'C', 'E'), ('I', 'C', 'F'), ('I', 'C', 'G'), ('I', 'C', 'H'), ('I', 'C', 'J'), ('I', 'D', 'A'), ('I', 'D', 'B'), ('I', 'D', 'C'), ('I', 'D', 'E'), ('I', 'D', 'F'), ('I', 'D', 'G'), ('I', 'D', 'H'), ('I', 'D', 'J'), ('I', 'E', 'A'), ('I', 'E', 'B'), ('I', 'E', 'C'), ('I', 'E', 'D'), ('I', 'E', 'F'), ('I', 'E', 'G'), ('I', 'E', 'H'), ('I', 'E', 'J'), ('I', 'F', 'A'), ('I', 'F', 'B'), ('I', 'F', 'C'), ('I', 'F', 'D'), ('I', 'F', 'E'), ('I', 'F', 'G'), ('I', 'F', 'H'), ('I', 'F', 'J'), ('I', 'G', 'A'), ('I', 'G', 'B'), ('I', 'G', 'C'), ('I', 'G', 'D'), ('I', 'G', 'E'), ('I', 'G', 'F'), ('I', 'G', 'H'), ('I', 'G', 'J'), ('I', 'H', 'A'), ('I', 'H', 'B'), ('I', 'H', 'C'), ('I', 'H', 'D'), ('I', 'H', 'E'), ('I', 'H', 'F'), ('I', 'H', 'G'), ('I', 'H', 'J'), ('I', 'J', 'A'), ('I', 'J', 'B'), ('I', 'J', 'C'), ('I', 'J', 'D'), ('I', 'J', 'E'), ('I', 'J', 'F'), ('I', 'J', 'G'), ('I', 'J', 'H'), ('J', 'A', 'B'), ('J', 'A', 'C'), ('J', 'A', 'D'), ('J', 'A', 'E'), ('J', 'A', 'F'), ('J', 'A', 'G'), ('J', 'A', 'H'), ('J', 'A', 'I'), ('J', 'B', 'A'), ('J', 'B', 'C'), ('J', 'B', 'D'), ('J', 'B', 'E'), ('J', 'B', 'F'), ('J', 'B', 'G'), ('J', 'B', 'H'), ('J', 'B', 'I'), ('J', 'C', 'A'), ('J', 'C', 'B'), ('J', 'C', 'D'), ('J', 'C', 'E'), ('J', 'C', 'F'), ('J', 'C', 'G'), ('J', 'C', 'H'), ('J', 'C', 'I'), ('J', 'D', 'A'), ('J', 'D', 'B'), ('J', 'D', 'C'), ('J', 'D', 'E'), ('J', 'D', 'F'), ('J', 'D', 'G'), ('J', 'D', 'H'), ('J', 'D', 'I'), ('J', 'E', 'A'), ('J', 'E', 'B'), ('J', 'E', 'C'), ('J', 'E', 'D'), ('J', 'E', 'F'), ('J', 'E', 'G'), ('J', 'E', 'H'), ('J', 'E', 'I'), ('J', 'F', 'A'), ('J', 'F', 'B'), ('J', 'F', 'C'), ('J', 'F', 'D'), ('J', 'F', 'E'), ('J', 'F', 'G'), ('J', 'F', 'H'), ('J', 'F', 'I'), ('J', 'G', 'A'), ('J', 'G', 'B'), ('J', 'G', 'C'), ('J', 'G', 'D'), ('J', 'G', 'E'), ('J', 'G', 'F'), ('J', 'G', 'H'), ('J', 'G', 'I'), ('J', 'H', 'A'), ('J', 'H', 'B'), ('J', 'H', 'C'), ('J', 'H', 'D'), ('J', 'H', 'E'), ('J', 'H', 'F'), ('J', 'H', 'G'), ('J', 'H', 'I'), ('J', 'I', 'A'), ('J', 'I', 'B'), ('J', 'I', 'C'), ('J', 'I', 'D'), ('J', 'I', 'E'), ('J', 'I', 'F'), ('J', 'I', 'G'), ('J', 'I', 'H')]\n"
     ]
    }
   ],
   "source": [
    "total_participants = 10\n",
    "first_places = 3\n",
    "elements = [chr(65 + _i) for _i in range(total_participants)]\n",
    "\n",
    "# Generate all permutations\n",
    "permutations_list = list(permutations(elements, first_places))\n",
    "\n",
    "# Calculate the total number of permutations\n",
    "total_permutations = len(permutations_list)\n",
    "\n",
    "# Show the total number of permutations\n",
    "print(\n",
    "    f\"El número de formas en que se pueden permutar los {first_places} primeros \"\n",
    "    f\"lugares entre {total_participants} participantes es: {total_permutations}\")\n",
    "\n",
    "print(f\"List of permutations: {permutations_list}\")"
   ]
  },
  {
   "cell_type": "code",
   "execution_count": 29,
   "metadata": {},
   "outputs": [
    {
     "name": "stdout",
     "output_type": "stream",
     "text": [
      "El número de formas en que se pueden combinar 3 participantes entre 10 es: 120\n",
      "List of combinations: [('A', 'B', 'C'), ('A', 'B', 'D'), ('A', 'B', 'E'), ('A', 'B', 'F'), ('A', 'B', 'G'), ('A', 'B', 'H'), ('A', 'B', 'I'), ('A', 'B', 'J'), ('A', 'C', 'D'), ('A', 'C', 'E'), ('A', 'C', 'F'), ('A', 'C', 'G'), ('A', 'C', 'H'), ('A', 'C', 'I'), ('A', 'C', 'J'), ('A', 'D', 'E'), ('A', 'D', 'F'), ('A', 'D', 'G'), ('A', 'D', 'H'), ('A', 'D', 'I'), ('A', 'D', 'J'), ('A', 'E', 'F'), ('A', 'E', 'G'), ('A', 'E', 'H'), ('A', 'E', 'I'), ('A', 'E', 'J'), ('A', 'F', 'G'), ('A', 'F', 'H'), ('A', 'F', 'I'), ('A', 'F', 'J'), ('A', 'G', 'H'), ('A', 'G', 'I'), ('A', 'G', 'J'), ('A', 'H', 'I'), ('A', 'H', 'J'), ('A', 'I', 'J'), ('B', 'C', 'D'), ('B', 'C', 'E'), ('B', 'C', 'F'), ('B', 'C', 'G'), ('B', 'C', 'H'), ('B', 'C', 'I'), ('B', 'C', 'J'), ('B', 'D', 'E'), ('B', 'D', 'F'), ('B', 'D', 'G'), ('B', 'D', 'H'), ('B', 'D', 'I'), ('B', 'D', 'J'), ('B', 'E', 'F'), ('B', 'E', 'G'), ('B', 'E', 'H'), ('B', 'E', 'I'), ('B', 'E', 'J'), ('B', 'F', 'G'), ('B', 'F', 'H'), ('B', 'F', 'I'), ('B', 'F', 'J'), ('B', 'G', 'H'), ('B', 'G', 'I'), ('B', 'G', 'J'), ('B', 'H', 'I'), ('B', 'H', 'J'), ('B', 'I', 'J'), ('C', 'D', 'E'), ('C', 'D', 'F'), ('C', 'D', 'G'), ('C', 'D', 'H'), ('C', 'D', 'I'), ('C', 'D', 'J'), ('C', 'E', 'F'), ('C', 'E', 'G'), ('C', 'E', 'H'), ('C', 'E', 'I'), ('C', 'E', 'J'), ('C', 'F', 'G'), ('C', 'F', 'H'), ('C', 'F', 'I'), ('C', 'F', 'J'), ('C', 'G', 'H'), ('C', 'G', 'I'), ('C', 'G', 'J'), ('C', 'H', 'I'), ('C', 'H', 'J'), ('C', 'I', 'J'), ('D', 'E', 'F'), ('D', 'E', 'G'), ('D', 'E', 'H'), ('D', 'E', 'I'), ('D', 'E', 'J'), ('D', 'F', 'G'), ('D', 'F', 'H'), ('D', 'F', 'I'), ('D', 'F', 'J'), ('D', 'G', 'H'), ('D', 'G', 'I'), ('D', 'G', 'J'), ('D', 'H', 'I'), ('D', 'H', 'J'), ('D', 'I', 'J'), ('E', 'F', 'G'), ('E', 'F', 'H'), ('E', 'F', 'I'), ('E', 'F', 'J'), ('E', 'G', 'H'), ('E', 'G', 'I'), ('E', 'G', 'J'), ('E', 'H', 'I'), ('E', 'H', 'J'), ('E', 'I', 'J'), ('F', 'G', 'H'), ('F', 'G', 'I'), ('F', 'G', 'J'), ('F', 'H', 'I'), ('F', 'H', 'J'), ('F', 'I', 'J'), ('G', 'H', 'I'), ('G', 'H', 'J'), ('G', 'I', 'J'), ('H', 'I', 'J')]\n"
     ]
    }
   ],
   "source": [
    "total_participants = 10\n",
    "participants_to_combine = 3\n",
    "elements = [chr(65 + _i) for _i in range(total_participants)]\n",
    "\n",
    "# Generate all combinations\n",
    "combinations_list = list(\n",
    "    combinations(elements, participants_to_combine))\n",
    "\n",
    "# Calculate the total number of combinations\n",
    "total_combinations = len(combinations_list)\n",
    "\n",
    "# Show the total number of combinations\n",
    "print(\n",
    "    f\"El número de formas en que se pueden combinar {participants_to_combine} \"\n",
    "    f\"participantes entre {total_participants} es: {total_combinations}\")\n",
    "\n",
    "print(f\"List of combinations: {combinations_list}\")"
   ]
  },
  {
   "cell_type": "markdown",
   "metadata": {},
   "source": [
    "**Binomial Theorem:** Expansion, binomial coefficients, Pascal's triangle."
   ]
  },
  {
   "cell_type": "code",
   "execution_count": 30,
   "metadata": {},
   "outputs": [
    {
     "name": "stdout",
     "output_type": "stream",
     "text": [
      "                                1                                \n",
      "                               1 1                               \n",
      "                              1 2 1                              \n",
      "                             1 3 3 1                             \n",
      "                            1 4 6 4 1                            \n",
      "                          1 5 10 10 5 1                          \n",
      "                         1 6 15 20 15 6 1                        \n",
      "                       1 7 21 35 35 21 7 1                       \n",
      "                      1 8 28 56 70 56 28 8 1                     \n",
      "                   1 9 36 84 126 126 84 36 9 1                   \n",
      "               1 10 45 120 210 252 210 120 45 10 1               \n",
      "             1 11 55 165 330 462 462 330 165 55 11 1             \n",
      "           1 12 66 220 495 792 924 792 495 220 66 12 1           \n",
      "       1 13 78 286 715 1287 1716 1716 1287 715 286 78 13 1       \n",
      "    1 14 91 364 1001 2002 3003 3432 3003 2002 1001 364 91 14 1   \n",
      "1 15 105 455 1365 3003 5005 6435 6435 5005 3003 1365 455 105 15 1\n"
     ]
    }
   ],
   "source": [
    "def generate_pascal_triangle(n):\n",
    "    triangle = []\n",
    "    for i in range(n):\n",
    "        row = [1]\n",
    "        if triangle:\n",
    "            last_row = triangle[-1]\n",
    "            # row.extend([sum(pair) for pair in zip(last_row, last_row[1:])])\n",
    "            row.extend([comb(i, j) for j in range(1, len(last_row))])\n",
    "            row.append(1)\n",
    "        triangle.append(row)\n",
    "    return triangle\n",
    "\n",
    "def print_pascal_triangle(triangle):\n",
    "    max_width = len(\" \".join(map(str, triangle[-1])))\n",
    "    for row in triangle:\n",
    "        formatted_row = \" \".join(map(str, row))\n",
    "        print(formatted_row.center(max_width))\n",
    "\n",
    "# Number of rows to generate for the Pascal's Triangle (n >= 1)\n",
    "n = 16\n",
    "\n",
    "pascal_triangle = generate_pascal_triangle(n)\n",
    "print_pascal_triangle(pascal_triangle)\n"
   ]
  },
  {
   "cell_type": "markdown",
   "metadata": {},
   "source": [
    "### Python Examples and Exercises"
   ]
  },
  {
   "cell_type": "code",
   "execution_count": 31,
   "metadata": {},
   "outputs": [],
   "source": [
    "## Up to you hehe"
   ]
  },
  {
   "cell_type": "markdown",
   "metadata": {},
   "source": [
    "## Graph theory\n",
    "---\n",
    "**Basic Definitions:** Graphs, vertices (nodes), edges (links), directed and undirected graphs.\n",
    "\n",
    "Konigsbert Bridge problem: https://www.youtube.com/watch?v=m_IT0RNZRw8"
   ]
  },
  {
   "cell_type": "code",
   "execution_count": 32,
   "metadata": {},
   "outputs": [
    {
     "data": {
      "text/plain": [
       "'images/graph.png'"
      ]
     },
     "execution_count": 32,
     "metadata": {},
     "output_type": "execute_result"
    }
   ],
   "source": [
    "g = graphviz.Graph('G', filename='images/graph', format='png')\n",
    "\n",
    "g.attr(rankdir='LR')\n",
    "\n",
    "# Add nodes to the graph\n",
    "g.node('A')\n",
    "g.node('B')\n",
    "g.node('C')\n",
    "g.node('D')\n",
    "g.node('E')\n",
    "g.node('F')\n",
    "\n",
    "# Add edges to the graph\n",
    "g.edge('A', 'B')  # Existing edge\n",
    "g.edge('B', 'C')  # Existing edge\n",
    "g.edge('C', 'D')  # Existing edge\n",
    "g.edge('D', 'E')  # Existing edge\n",
    "g.edge('E', 'F')  # Existing edge\n",
    "g.edge('A', 'C')  # New edge\n",
    "g.edge('B', 'D')  # New edge\n",
    "g.edge('C', 'E')  # New edge\n",
    "g.edge('D', 'F')  # New edge\n",
    "g.edge('A', 'F')  # New edge\n",
    "g.edge('B', 'E')  # New edge\n",
    "\n",
    "# Generate image\n",
    "g.render(view=False)"
   ]
  },
  {
   "cell_type": "markdown",
   "metadata": {},
   "source": [
    "\n",
    "<img src=\"images/graph.png\" alt=\"\" title=\"Título opcional\" width=\"10%\" height=\"10%\"/>"
   ]
  },
  {
   "cell_type": "markdown",
   "metadata": {},
   "source": [
    "#### Adjacent List"
   ]
  },
  {
   "cell_type": "code",
   "execution_count": 33,
   "metadata": {},
   "outputs": [
    {
     "name": "stdout",
     "output_type": "stream",
     "text": [
      "A: B, C, F\n",
      "B: A, C, D, E, F\n",
      "C: A, B, D, E\n",
      "D: B, C, E, F\n",
      "E: B, C, D, F\n",
      "F: A, B, D, E\n"
     ]
    }
   ],
   "source": [
    "# Define the adjacency list for the graph\n",
    "adjacency_list = {\n",
    "    'A': ['B', 'C', 'F'],  # Node A is connected to B, C, and F\n",
    "    'B': ['A', 'C', 'D', 'E', 'F'],  # Node B is connected to A, C, D, E, and F\n",
    "    'C': ['A', 'B', 'D', 'E'],  # Node C is connected to A, B, D, and E\n",
    "    'D': ['B', 'C', 'E', 'F'],  # Node D is connected to B, C, E, and F\n",
    "    'E': ['B', 'C', 'D', 'F'],  # Node E is connected to B, C, D, and F\n",
    "    'F': ['A', 'B', 'D', 'E']   # Node F is connected to A, B, D, and E\n",
    "}\n",
    "\n",
    "# Function to print the adjacency list\n",
    "def print_adjacency_list(adj_list):\n",
    "    for key in adj_list:\n",
    "        print(f\"{key}: {', '.join(adj_list[key])}\")\n",
    "\n",
    "# Print the adjacency list\n",
    "print_adjacency_list(adjacency_list)"
   ]
  },
  {
   "cell_type": "code",
   "execution_count": 35,
   "metadata": {},
   "outputs": [
    {
     "name": "stdout",
     "output_type": "stream",
     "text": [
      "0 1 1 0 0 1\n",
      "1 0 1 1 0 1\n",
      "1 1 0 1 1 0\n",
      "0 1 1 0 1 1\n",
      "0 0 1 1 0 1\n",
      "1 1 0 1 1 0\n"
     ]
    }
   ],
   "source": [
    "# Define the adjacency matrix for the graph\n",
    "adjacency_matrix = [\n",
    "    [0, 1, 1, 0, 0, 1],  # A\n",
    "    [1, 0, 1, 1, 0, 1],  # B\n",
    "    [1, 1, 0, 1, 1, 0],  # C\n",
    "    [0, 1, 1, 0, 1, 1],  # D\n",
    "    [0, 0, 1, 1, 0, 1],  # E\n",
    "    [1, 1, 0, 1, 1, 0]   # F\n",
    "]\n",
    "\n",
    "# Print the adjacency matrix\n",
    "for row in adjacency_matrix:\n",
    "    print(' '.join(map(str, row)))\n"
   ]
  },
  {
   "cell_type": "markdown",
   "metadata": {},
   "source": [
    "Eulerian path := A path that traverses every edge exactly once.  \n",
    "Eulerian vertex := A path that starts and ends on the same vertex, without repeating any."
   ]
  },
  {
   "cell_type": "markdown",
   "metadata": {},
   "source": [
    "### Python Examples\n",
    "---\n",
    "Konigsberg problema implementation  \n",
    "Source := https://www.geeksforgeeks.org/paths-travel-nodes-using-edgeseven-bridges-konigsberg/\n"
   ]
  },
  {
   "cell_type": "code",
   "execution_count": 36,
   "metadata": {},
   "outputs": [],
   "source": [
    "@dataclass\n",
    "class Graph:\n",
    "\tV: int\n",
    "\tadj: Dict[str, List[int]] = field(default_factory=dict)\n",
    "\n",
    "\n",
    "    # Adds an edge to an undirected graph\n",
    "\tdef addEdge(self, v: str, w: str):\n",
    "\t\tif v not in self.adj:\n",
    "\t\t\tself.adj[v] = []\n",
    "\n",
    "\t\tif w not in self.adj:\n",
    "\t\t\tself.adj[w] = []\n",
    "\n",
    "\t\tself.adj[v].append(w)\n",
    "\t\tself.adj[w].append(v)\n",
    "\n",
    "\tdef DFS(self, s):\n",
    "\t\tvisited = {_k: False for _k in self.adj}\n",
    "\t\tstack = []\n",
    "\n",
    "\t\tstack.append(s)\n",
    "\n",
    "\t\twhile stack:\n",
    "\t\t\ts = stack.pop()\n",
    "\n",
    "\t\t\tif not visited[s]:\n",
    "\t\t\t\tprint(\" -> \", s, end='')\n",
    "\t\t\t\tvisited[s] = True\n",
    "\n",
    "\t\t\tfor node in self.adj[s]:\n",
    "\t\t\t\tif (not visited[node]):\n",
    "\t\t\t\t\tstack.append(node)"
   ]
  },
  {
   "cell_type": "code",
   "execution_count": 37,
   "metadata": {},
   "outputs": [
    {
     "name": "stdout",
     "output_type": "stream",
     "text": [
      "Adj Lis:  {'A': ['B', 'C', 'D'], 'B': ['A', 'C', 'C'], 'C': ['A', 'B', 'B', 'D', 'D'], 'D': ['A', 'C', 'C']}\n",
      "\n",
      "Following is Depth First Traversal\n",
      " ->  A ->  D ->  C ->  B"
     ]
    }
   ],
   "source": [
    "g = Graph(4)\n",
    "g.addEdge(\"A\", \"B\")\n",
    "g.addEdge(\"A\", \"C\")\n",
    "g.addEdge(\"A\", \"D\")\n",
    "g.addEdge(\"B\", \"C\")\n",
    "g.addEdge(\"B\", \"C\")\n",
    "g.addEdge(\"C\", \"D\")\n",
    "g.addEdge(\"C\", \"D\")\n",
    "print(\"Adj Lis: \", g.adj)\n",
    "\n",
    "print(\"\\nFollowing is Depth First Traversal\")\n",
    "g.DFS(\"A\")\n"
   ]
  },
  {
   "cell_type": "code",
   "execution_count": 38,
   "metadata": {},
   "outputs": [
    {
     "data": {
      "text/plain": [
       "'images/graph_dfs.png'"
      ]
     },
     "execution_count": 38,
     "metadata": {},
     "output_type": "execute_result"
    }
   ],
   "source": [
    "g_graph = graphviz.Graph('G', filename='images/graph_dfs', format='png')\n",
    "g_graph.attr(rankdir='LR')\n",
    "\n",
    "duplicates = []\n",
    "\n",
    "for _k in g.adj:\n",
    "    g_graph.node(_k)\n",
    "\n",
    "for _k in g.adj:\n",
    "    for _v in g.adj[_k]:\n",
    "        if f\"{_k}-{_v}\" in duplicates:\n",
    "            continue\n",
    "        g_graph.edge(_k, _v)\n",
    "        duplicates.append(f\"{_v}-{_k}\")\n",
    "\n",
    "# Generate image\n",
    "g_graph.render(view=False)"
   ]
  },
  {
   "cell_type": "markdown",
   "metadata": {},
   "source": [
    "<img src=\"images/graph_dfs.png\" alt=\"\" title=\"Título opcional\" width=\"30%\" height=\"10%\"/>"
   ]
  },
  {
   "cell_type": "code",
   "execution_count": 39,
   "metadata": {},
   "outputs": [
    {
     "name": "stdout",
     "output_type": "stream",
     "text": [
      "Following is Depth First Traversal starting from node A\n",
      " ->  A ->  D ->  J ->  G ->  C ->  H ->  E ->  B ->  F ->  I"
     ]
    }
   ],
   "source": [
    "# Define a graph with letters as nodes\n",
    "g = Graph(10)  # Create a graph with 10 nodes, from 'A' to 'J'\n",
    "g.addEdge('A', 'B')\n",
    "g.addEdge('A', 'C')\n",
    "g.addEdge('A', 'D')\n",
    "g.addEdge('B', 'E')\n",
    "g.addEdge('B', 'F')\n",
    "g.addEdge('C', 'G')\n",
    "g.addEdge('C', 'H')\n",
    "g.addEdge('D', 'I')\n",
    "g.addEdge('D', 'J')\n",
    "g.addEdge('E', 'H')\n",
    "g.addEdge('F', 'I')\n",
    "g.addEdge('G', 'J')\n",
    "\n",
    "print(\"Following is Depth First Traversal starting from node A\")\n",
    "g.DFS('A')"
   ]
  },
  {
   "cell_type": "code",
   "execution_count": 40,
   "metadata": {},
   "outputs": [
    {
     "data": {
      "text/plain": [
       "'images/graph_dfs2.png'"
      ]
     },
     "execution_count": 40,
     "metadata": {},
     "output_type": "execute_result"
    }
   ],
   "source": [
    "g_graph = graphviz.Graph('G', filename='images/graph_dfs2', format='png')\n",
    "g_graph.attr(rankdir='LR')\n",
    "\n",
    "duplicates = []\n",
    "\n",
    "for _k in g.adj:\n",
    "    g_graph.node(_k)\n",
    "\n",
    "for _k in g.adj:\n",
    "    for _v in g.adj[_k]:\n",
    "        if f\"{_k}-{_v}\" in duplicates:\n",
    "            continue\n",
    "        g_graph.edge(_k, _v)\n",
    "        duplicates.append(f\"{_v}-{_k}\")\n",
    "\n",
    "# Generate image\n",
    "g_graph.render(view=False)"
   ]
  },
  {
   "cell_type": "markdown",
   "metadata": {},
   "source": [
    "<img src=\"images/graph_dfs2.png\" alt=\"\" title=\"Título opcional\" width=\"30%\" height=\"10%\"/>"
   ]
  }
 ],
 "metadata": {
  "kernelspec": {
   "display_name": "discrete-mathematics-py3.10",
   "language": "python",
   "name": "discrete-mathematics-py3.10"
  },
  "language_info": {
   "codemirror_mode": {
    "name": "ipython",
    "version": 3
   },
   "file_extension": ".py",
   "mimetype": "text/x-python",
   "name": "python",
   "nbconvert_exporter": "python",
   "pygments_lexer": "ipython3",
   "version": "3.10.12"
  }
 },
 "nbformat": 4,
 "nbformat_minor": 2
}
