{
  "nbformat": 4,
  "nbformat_minor": 0,
  "metadata": {
    "colab": {
      "provenance": []
    },
    "kernelspec": {
      "name": "python3",
      "display_name": "Python 3"
    },
    "language_info": {
      "name": "python"
    }
  },
  "cells": [
    {
      "cell_type": "markdown",
      "source": [
        "# 1- Import libraries and load data"
      ],
      "metadata": {
        "id": "Pp41uhTboyaY"
      }
    },
    {
      "cell_type": "code",
      "execution_count": null,
      "metadata": {
        "id": "v5sO9TiXVk_B"
      },
      "outputs": [],
      "source": [
        "import pandas as pd\n",
        "import numpy as np\n",
        "import re\n",
        "import pickle\n",
        "\n",
        "import warnings\n",
        "warnings.simplefilter(\"ignore\")"
      ]
    },
    {
      "cell_type": "code",
      "source": [
        "# load the data\n",
        "data = pd.read_csv(\"sample_data/language_detection.csv\")\n",
        "data.head(10)"
      ],
      "metadata": {
        "colab": {
          "base_uri": "https://localhost:8080/",
          "height": 363
        },
        "id": "VRH07lo4WzT8",
        "outputId": "3c57c0c4-565b-46a6-ad46-648a5941b1ae"
      },
      "execution_count": null,
      "outputs": [
        {
          "output_type": "execute_result",
          "data": {
            "text/plain": [
              "                                                Text Language\n",
              "0   Nature, in the broadest sense, is the natural...  English\n",
              "1  \"Nature\" can refer to the phenomena of the phy...  English\n",
              "2  The study of nature is a large, if not the onl...  English\n",
              "3  Although humans are part of nature, human acti...  English\n",
              "4  [1] The word nature is borrowed from the Old F...  English\n",
              "5  [2] In ancient philosophy, natura is mostly us...  English\n",
              "6  [3][4] \\nThe concept of nature as a whole, the...  English\n",
              "7  During the advent of modern scientific method ...  English\n",
              "8  [5][6] With the Industrial revolution, nature ...  English\n",
              "9  However, a vitalist vision of nature, closer t...  English"
            ],
            "text/html": [
              "\n",
              "  <div id=\"df-7553203d-dfad-4ac6-8feb-bac21102db75\" class=\"colab-df-container\">\n",
              "    <div>\n",
              "<style scoped>\n",
              "    .dataframe tbody tr th:only-of-type {\n",
              "        vertical-align: middle;\n",
              "    }\n",
              "\n",
              "    .dataframe tbody tr th {\n",
              "        vertical-align: top;\n",
              "    }\n",
              "\n",
              "    .dataframe thead th {\n",
              "        text-align: right;\n",
              "    }\n",
              "</style>\n",
              "<table border=\"1\" class=\"dataframe\">\n",
              "  <thead>\n",
              "    <tr style=\"text-align: right;\">\n",
              "      <th></th>\n",
              "      <th>Text</th>\n",
              "      <th>Language</th>\n",
              "    </tr>\n",
              "  </thead>\n",
              "  <tbody>\n",
              "    <tr>\n",
              "      <th>0</th>\n",
              "      <td>Nature, in the broadest sense, is the natural...</td>\n",
              "      <td>English</td>\n",
              "    </tr>\n",
              "    <tr>\n",
              "      <th>1</th>\n",
              "      <td>\"Nature\" can refer to the phenomena of the phy...</td>\n",
              "      <td>English</td>\n",
              "    </tr>\n",
              "    <tr>\n",
              "      <th>2</th>\n",
              "      <td>The study of nature is a large, if not the onl...</td>\n",
              "      <td>English</td>\n",
              "    </tr>\n",
              "    <tr>\n",
              "      <th>3</th>\n",
              "      <td>Although humans are part of nature, human acti...</td>\n",
              "      <td>English</td>\n",
              "    </tr>\n",
              "    <tr>\n",
              "      <th>4</th>\n",
              "      <td>[1] The word nature is borrowed from the Old F...</td>\n",
              "      <td>English</td>\n",
              "    </tr>\n",
              "    <tr>\n",
              "      <th>5</th>\n",
              "      <td>[2] In ancient philosophy, natura is mostly us...</td>\n",
              "      <td>English</td>\n",
              "    </tr>\n",
              "    <tr>\n",
              "      <th>6</th>\n",
              "      <td>[3][4] \\nThe concept of nature as a whole, the...</td>\n",
              "      <td>English</td>\n",
              "    </tr>\n",
              "    <tr>\n",
              "      <th>7</th>\n",
              "      <td>During the advent of modern scientific method ...</td>\n",
              "      <td>English</td>\n",
              "    </tr>\n",
              "    <tr>\n",
              "      <th>8</th>\n",
              "      <td>[5][6] With the Industrial revolution, nature ...</td>\n",
              "      <td>English</td>\n",
              "    </tr>\n",
              "    <tr>\n",
              "      <th>9</th>\n",
              "      <td>However, a vitalist vision of nature, closer t...</td>\n",
              "      <td>English</td>\n",
              "    </tr>\n",
              "  </tbody>\n",
              "</table>\n",
              "</div>\n",
              "    <div class=\"colab-df-buttons\">\n",
              "\n",
              "  <div class=\"colab-df-container\">\n",
              "    <button class=\"colab-df-convert\" onclick=\"convertToInteractive('df-7553203d-dfad-4ac6-8feb-bac21102db75')\"\n",
              "            title=\"Convert this dataframe to an interactive table.\"\n",
              "            style=\"display:none;\">\n",
              "\n",
              "  <svg xmlns=\"http://www.w3.org/2000/svg\" height=\"24px\" viewBox=\"0 -960 960 960\">\n",
              "    <path d=\"M120-120v-720h720v720H120Zm60-500h600v-160H180v160Zm220 220h160v-160H400v160Zm0 220h160v-160H400v160ZM180-400h160v-160H180v160Zm440 0h160v-160H620v160ZM180-180h160v-160H180v160Zm440 0h160v-160H620v160Z\"/>\n",
              "  </svg>\n",
              "    </button>\n",
              "\n",
              "  <style>\n",
              "    .colab-df-container {\n",
              "      display:flex;\n",
              "      gap: 12px;\n",
              "    }\n",
              "\n",
              "    .colab-df-convert {\n",
              "      background-color: #E8F0FE;\n",
              "      border: none;\n",
              "      border-radius: 50%;\n",
              "      cursor: pointer;\n",
              "      display: none;\n",
              "      fill: #1967D2;\n",
              "      height: 32px;\n",
              "      padding: 0 0 0 0;\n",
              "      width: 32px;\n",
              "    }\n",
              "\n",
              "    .colab-df-convert:hover {\n",
              "      background-color: #E2EBFA;\n",
              "      box-shadow: 0px 1px 2px rgba(60, 64, 67, 0.3), 0px 1px 3px 1px rgba(60, 64, 67, 0.15);\n",
              "      fill: #174EA6;\n",
              "    }\n",
              "\n",
              "    .colab-df-buttons div {\n",
              "      margin-bottom: 4px;\n",
              "    }\n",
              "\n",
              "    [theme=dark] .colab-df-convert {\n",
              "      background-color: #3B4455;\n",
              "      fill: #D2E3FC;\n",
              "    }\n",
              "\n",
              "    [theme=dark] .colab-df-convert:hover {\n",
              "      background-color: #434B5C;\n",
              "      box-shadow: 0px 1px 3px 1px rgba(0, 0, 0, 0.15);\n",
              "      filter: drop-shadow(0px 1px 2px rgba(0, 0, 0, 0.3));\n",
              "      fill: #FFFFFF;\n",
              "    }\n",
              "  </style>\n",
              "\n",
              "    <script>\n",
              "      const buttonEl =\n",
              "        document.querySelector('#df-7553203d-dfad-4ac6-8feb-bac21102db75 button.colab-df-convert');\n",
              "      buttonEl.style.display =\n",
              "        google.colab.kernel.accessAllowed ? 'block' : 'none';\n",
              "\n",
              "      async function convertToInteractive(key) {\n",
              "        const element = document.querySelector('#df-7553203d-dfad-4ac6-8feb-bac21102db75');\n",
              "        const dataTable =\n",
              "          await google.colab.kernel.invokeFunction('convertToInteractive',\n",
              "                                                    [key], {});\n",
              "        if (!dataTable) return;\n",
              "\n",
              "        const docLinkHtml = 'Like what you see? Visit the ' +\n",
              "          '<a target=\"_blank\" href=https://colab.research.google.com/notebooks/data_table.ipynb>data table notebook</a>'\n",
              "          + ' to learn more about interactive tables.';\n",
              "        element.innerHTML = '';\n",
              "        dataTable['output_type'] = 'display_data';\n",
              "        await google.colab.output.renderOutput(dataTable, element);\n",
              "        const docLink = document.createElement('div');\n",
              "        docLink.innerHTML = docLinkHtml;\n",
              "        element.appendChild(docLink);\n",
              "      }\n",
              "    </script>\n",
              "  </div>\n",
              "\n",
              "\n",
              "<div id=\"df-8b02b10e-5601-4a0a-a307-feb6b6c98893\">\n",
              "  <button class=\"colab-df-quickchart\" onclick=\"quickchart('df-8b02b10e-5601-4a0a-a307-feb6b6c98893')\"\n",
              "            title=\"Suggest charts\"\n",
              "            style=\"display:none;\">\n",
              "\n",
              "<svg xmlns=\"http://www.w3.org/2000/svg\" height=\"24px\"viewBox=\"0 0 24 24\"\n",
              "     width=\"24px\">\n",
              "    <g>\n",
              "        <path d=\"M19 3H5c-1.1 0-2 .9-2 2v14c0 1.1.9 2 2 2h14c1.1 0 2-.9 2-2V5c0-1.1-.9-2-2-2zM9 17H7v-7h2v7zm4 0h-2V7h2v10zm4 0h-2v-4h2v4z\"/>\n",
              "    </g>\n",
              "</svg>\n",
              "  </button>\n",
              "\n",
              "<style>\n",
              "  .colab-df-quickchart {\n",
              "      --bg-color: #E8F0FE;\n",
              "      --fill-color: #1967D2;\n",
              "      --hover-bg-color: #E2EBFA;\n",
              "      --hover-fill-color: #174EA6;\n",
              "      --disabled-fill-color: #AAA;\n",
              "      --disabled-bg-color: #DDD;\n",
              "  }\n",
              "\n",
              "  [theme=dark] .colab-df-quickchart {\n",
              "      --bg-color: #3B4455;\n",
              "      --fill-color: #D2E3FC;\n",
              "      --hover-bg-color: #434B5C;\n",
              "      --hover-fill-color: #FFFFFF;\n",
              "      --disabled-bg-color: #3B4455;\n",
              "      --disabled-fill-color: #666;\n",
              "  }\n",
              "\n",
              "  .colab-df-quickchart {\n",
              "    background-color: var(--bg-color);\n",
              "    border: none;\n",
              "    border-radius: 50%;\n",
              "    cursor: pointer;\n",
              "    display: none;\n",
              "    fill: var(--fill-color);\n",
              "    height: 32px;\n",
              "    padding: 0;\n",
              "    width: 32px;\n",
              "  }\n",
              "\n",
              "  .colab-df-quickchart:hover {\n",
              "    background-color: var(--hover-bg-color);\n",
              "    box-shadow: 0 1px 2px rgba(60, 64, 67, 0.3), 0 1px 3px 1px rgba(60, 64, 67, 0.15);\n",
              "    fill: var(--button-hover-fill-color);\n",
              "  }\n",
              "\n",
              "  .colab-df-quickchart-complete:disabled,\n",
              "  .colab-df-quickchart-complete:disabled:hover {\n",
              "    background-color: var(--disabled-bg-color);\n",
              "    fill: var(--disabled-fill-color);\n",
              "    box-shadow: none;\n",
              "  }\n",
              "\n",
              "  .colab-df-spinner {\n",
              "    border: 2px solid var(--fill-color);\n",
              "    border-color: transparent;\n",
              "    border-bottom-color: var(--fill-color);\n",
              "    animation:\n",
              "      spin 1s steps(1) infinite;\n",
              "  }\n",
              "\n",
              "  @keyframes spin {\n",
              "    0% {\n",
              "      border-color: transparent;\n",
              "      border-bottom-color: var(--fill-color);\n",
              "      border-left-color: var(--fill-color);\n",
              "    }\n",
              "    20% {\n",
              "      border-color: transparent;\n",
              "      border-left-color: var(--fill-color);\n",
              "      border-top-color: var(--fill-color);\n",
              "    }\n",
              "    30% {\n",
              "      border-color: transparent;\n",
              "      border-left-color: var(--fill-color);\n",
              "      border-top-color: var(--fill-color);\n",
              "      border-right-color: var(--fill-color);\n",
              "    }\n",
              "    40% {\n",
              "      border-color: transparent;\n",
              "      border-right-color: var(--fill-color);\n",
              "      border-top-color: var(--fill-color);\n",
              "    }\n",
              "    60% {\n",
              "      border-color: transparent;\n",
              "      border-right-color: var(--fill-color);\n",
              "    }\n",
              "    80% {\n",
              "      border-color: transparent;\n",
              "      border-right-color: var(--fill-color);\n",
              "      border-bottom-color: var(--fill-color);\n",
              "    }\n",
              "    90% {\n",
              "      border-color: transparent;\n",
              "      border-bottom-color: var(--fill-color);\n",
              "    }\n",
              "  }\n",
              "</style>\n",
              "\n",
              "  <script>\n",
              "    async function quickchart(key) {\n",
              "      const quickchartButtonEl =\n",
              "        document.querySelector('#' + key + ' button');\n",
              "      quickchartButtonEl.disabled = true;  // To prevent multiple clicks.\n",
              "      quickchartButtonEl.classList.add('colab-df-spinner');\n",
              "      try {\n",
              "        const charts = await google.colab.kernel.invokeFunction(\n",
              "            'suggestCharts', [key], {});\n",
              "      } catch (error) {\n",
              "        console.error('Error during call to suggestCharts:', error);\n",
              "      }\n",
              "      quickchartButtonEl.classList.remove('colab-df-spinner');\n",
              "      quickchartButtonEl.classList.add('colab-df-quickchart-complete');\n",
              "    }\n",
              "    (() => {\n",
              "      let quickchartButtonEl =\n",
              "        document.querySelector('#df-8b02b10e-5601-4a0a-a307-feb6b6c98893 button');\n",
              "      quickchartButtonEl.style.display =\n",
              "        google.colab.kernel.accessAllowed ? 'block' : 'none';\n",
              "    })();\n",
              "  </script>\n",
              "</div>\n",
              "    </div>\n",
              "  </div>\n"
            ],
            "application/vnd.google.colaboratory.intrinsic+json": {
              "type": "dataframe",
              "variable_name": "data",
              "summary": "{\n  \"name\": \"data\",\n  \"rows\": 10337,\n  \"fields\": [\n    {\n      \"column\": \"Text\",\n      \"properties\": {\n        \"dtype\": \"string\",\n        \"num_unique_values\": 10267,\n        \"samples\": [\n          \"\\u0647\\u0644 \\u064a\\u0645\\u0643\\u0646 \\u0623\\u0646 \\u062a\\u062e\\u0628\\u0631\\u0646\\u064a \\u0645\\u0627\\u0630\\u0627 \\u062a\\u0639\\u0646\\u064a \\u0647\\u0630\\u0647 \\u0627\\u0644\\u0643\\u0644\\u0645\\u0629\\u061f \\u0647\\u0644 \\u062a\\u0639\\u0631\\u0641 \\u0623\\u064a\\u0646 \\u062a\\u0648\\u062c\\u062f \\u0627\\u0644\\u0645\\u0643\\u062a\\u0628\\u0629\\u061f \\u0645\\u062a\\u0631\\u062f\\u062f.\",\n          \"Alla fine del 2005 \\u00e8 sorta una controversia dopo che il giornalista John Seigenthaler Sr. aveva notato come la sua biografia fosse stata vandalizzata inserendo informazioni false.\",\n          \"seus amigos que \\u00e9 este canal estupendo para estudantes e algumas outras palavras que voc\\u00ea pode usar ao inv\\u00e9s de estupendo s\\u00e3o incr\\u00edveis fant\\u00e1sticas ou excepcionalmente boas ok ent\\u00e3o antes de continuarmos com as cinco palavras equilibradas neste v\\u00eddeo, lembre-se de colocar um coment\\u00e1rio abaixo deste v\\u00eddeo.\"\n        ],\n        \"semantic_type\": \"\",\n        \"description\": \"\"\n      }\n    },\n    {\n      \"column\": \"Language\",\n      \"properties\": {\n        \"dtype\": \"category\",\n        \"num_unique_values\": 17,\n        \"samples\": [\n          \"English\",\n          \"Malayalam\",\n          \"French\"\n        ],\n        \"semantic_type\": \"\",\n        \"description\": \"\"\n      }\n    }\n  ]\n}"
            }
          },
          "metadata": {},
          "execution_count": 2
        }
      ]
    },
    {
      "cell_type": "code",
      "source": [
        "# value count for each language\n",
        "data[\"Language\"].value_counts()"
      ],
      "metadata": {
        "colab": {
          "base_uri": "https://localhost:8080/"
        },
        "id": "M-R22t0tW6sR",
        "outputId": "f3bba46e-e199-4677-f0a1-ded343ffcabf"
      },
      "execution_count": null,
      "outputs": [
        {
          "output_type": "execute_result",
          "data": {
            "text/plain": [
              "Language\n",
              "English       1385\n",
              "French        1014\n",
              "Spanish        819\n",
              "Portugeese     739\n",
              "Italian        698\n",
              "Russian        692\n",
              "Sweedish       676\n",
              "Malayalam      594\n",
              "Dutch          546\n",
              "Arabic         536\n",
              "Turkish        474\n",
              "German         470\n",
              "Tamil          469\n",
              "Danish         428\n",
              "Kannada        369\n",
              "Greek          365\n",
              "Hindi           63\n",
              "Name: count, dtype: int64"
            ]
          },
          "metadata": {},
          "execution_count": 3
        }
      ]
    },
    {
      "cell_type": "markdown",
      "source": [
        "# 2- Preprocessing"
      ],
      "metadata": {
        "id": "r_PDQ_Coo_h8"
      }
    },
    {
      "cell_type": "code",
      "source": [
        "# separating the independent and dependant features\n",
        "X = data[\"Text\"]\n",
        "y = data[\"Language\"]"
      ],
      "metadata": {
        "id": "t_XSMYzqXKyh"
      },
      "execution_count": null,
      "outputs": []
    },
    {
      "cell_type": "code",
      "source": [
        "# converting categorical variables to numerical\n",
        "from sklearn.preprocessing import LabelEncoder\n",
        "le = LabelEncoder()\n",
        "y = le.fit_transform(y)\n",
        "y"
      ],
      "metadata": {
        "colab": {
          "base_uri": "https://localhost:8080/"
        },
        "id": "GC8F297KXOCz",
        "outputId": "cfe3b271-fc90-4514-fc28-580288c95e59"
      },
      "execution_count": null,
      "outputs": [
        {
          "output_type": "execute_result",
          "data": {
            "text/plain": [
              "array([3, 3, 3, ..., 9, 9, 9])"
            ]
          },
          "metadata": {},
          "execution_count": 5
        }
      ]
    },
    {
      "cell_type": "code",
      "source": [
        "# clases reference\n",
        "le.classes_"
      ],
      "metadata": {
        "colab": {
          "base_uri": "https://localhost:8080/"
        },
        "id": "K-9sJVPNZmGl",
        "outputId": "594ac8df-46f9-497b-bcaf-97d450295a46"
      },
      "execution_count": null,
      "outputs": [
        {
          "output_type": "execute_result",
          "data": {
            "text/plain": [
              "array(['Arabic', 'Danish', 'Dutch', 'English', 'French', 'German',\n",
              "       'Greek', 'Hindi', 'Italian', 'Kannada', 'Malayalam', 'Portugeese',\n",
              "       'Russian', 'Spanish', 'Sweedish', 'Tamil', 'Turkish'], dtype=object)"
            ]
          },
          "metadata": {},
          "execution_count": 6
        }
      ]
    },
    {
      "cell_type": "code",
      "source": [
        "le.inverse_transform(y)"
      ],
      "metadata": {
        "colab": {
          "base_uri": "https://localhost:8080/"
        },
        "id": "nZU2VcxkdLA4",
        "outputId": "62c76f9e-95e6-481d-d6cb-8db9ad1efa4a"
      },
      "execution_count": null,
      "outputs": [
        {
          "output_type": "execute_result",
          "data": {
            "text/plain": [
              "array(['English', 'English', 'English', ..., 'Kannada', 'Kannada',\n",
              "       'Kannada'], dtype=object)"
            ]
          },
          "metadata": {},
          "execution_count": 7
        }
      ]
    },
    {
      "cell_type": "code",
      "source": [
        "# filtering and preprocessing the training data\n",
        "data_list = []\n",
        "for text in X:\n",
        "    text = re.sub(r'[!@#$(),\\n\"%^*?\\:;~`0-9]', ' ', text)\n",
        "    text = re.sub(r'[[]]', ' ', text)\n",
        "    text = text.lower()\n",
        "    data_list.append(text)\n",
        "X = pd.Series(data_list)"
      ],
      "metadata": {
        "id": "DfZneDnOXTZx"
      },
      "execution_count": null,
      "outputs": []
    },
    {
      "cell_type": "code",
      "source": [
        "# creating test and train data\n",
        "from sklearn.model_selection import train_test_split\n",
        "\n",
        "X_train, X_test, y_train, y_test = train_test_split(X, y, test_size = 0.20, random_state=42)"
      ],
      "metadata": {
        "id": "Qt_Mqq1KYJJ7"
      },
      "execution_count": null,
      "outputs": []
    },
    {
      "cell_type": "code",
      "source": [
        "# Convert text to a matrix of token counts using countvectorizer\n",
        "from sklearn.feature_extraction.text import CountVectorizer\n",
        "cv = CountVectorizer()\n",
        "cv.fit(X_train)\n",
        "\n",
        "X_train = cv.transform(X_train).toarray()\n",
        "X_test = cv.transform(X_test).toarray()"
      ],
      "metadata": {
        "id": "e141IPwCeOSD"
      },
      "execution_count": null,
      "outputs": []
    },
    {
      "cell_type": "code",
      "source": [
        "X_train.shape"
      ],
      "metadata": {
        "colab": {
          "base_uri": "https://localhost:8080/"
        },
        "id": "HTrAbvFke6cQ",
        "outputId": "69f03051-1868-42d6-937e-e325fa951148"
      },
      "execution_count": null,
      "outputs": [
        {
          "output_type": "execute_result",
          "data": {
            "text/plain": [
              "(8269, 34339)"
            ]
          },
          "metadata": {},
          "execution_count": 11
        }
      ]
    },
    {
      "cell_type": "code",
      "source": [
        "X.shape"
      ],
      "metadata": {
        "colab": {
          "base_uri": "https://localhost:8080/"
        },
        "id": "yY6QMbaxxM6P",
        "outputId": "5d1118cd-7ef8-450a-c63f-7600a320402b"
      },
      "execution_count": null,
      "outputs": [
        {
          "output_type": "execute_result",
          "data": {
            "text/plain": [
              "(10337,)"
            ]
          },
          "metadata": {},
          "execution_count": 12
        }
      ]
    },
    {
      "cell_type": "markdown",
      "source": [
        "# 3- Model training"
      ],
      "metadata": {
        "id": "WhlJibbEpI-6"
      }
    },
    {
      "cell_type": "markdown",
      "source": [
        "![0_9Yio7Jry0iJ8EIPb.jpg](data:image/jpeg;base64,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)"
      ],
      "metadata": {
        "id": "01yvce7SpcpO"
      }
    },
    {
      "cell_type": "code",
      "source": [
        "# model training\n",
        "from sklearn.naive_bayes import MultinomialNB\n",
        "\n",
        "model = MultinomialNB()\n",
        "model.fit(X_train, y_train)"
      ],
      "metadata": {
        "colab": {
          "base_uri": "https://localhost:8080/",
          "height": 74
        },
        "id": "Kaj_tmQWYO8s",
        "outputId": "84355b2a-637d-4d48-b076-c407b48d6864"
      },
      "execution_count": null,
      "outputs": [
        {
          "output_type": "execute_result",
          "data": {
            "text/plain": [
              "MultinomialNB()"
            ],
            "text/html": [
              "<style>#sk-container-id-1 {color: black;background-color: white;}#sk-container-id-1 pre{padding: 0;}#sk-container-id-1 div.sk-toggleable {background-color: white;}#sk-container-id-1 label.sk-toggleable__label {cursor: pointer;display: block;width: 100%;margin-bottom: 0;padding: 0.3em;box-sizing: border-box;text-align: center;}#sk-container-id-1 label.sk-toggleable__label-arrow:before {content: \"▸\";float: left;margin-right: 0.25em;color: #696969;}#sk-container-id-1 label.sk-toggleable__label-arrow:hover:before {color: black;}#sk-container-id-1 div.sk-estimator:hover label.sk-toggleable__label-arrow:before {color: black;}#sk-container-id-1 div.sk-toggleable__content {max-height: 0;max-width: 0;overflow: hidden;text-align: left;background-color: #f0f8ff;}#sk-container-id-1 div.sk-toggleable__content pre {margin: 0.2em;color: black;border-radius: 0.25em;background-color: #f0f8ff;}#sk-container-id-1 input.sk-toggleable__control:checked~div.sk-toggleable__content {max-height: 200px;max-width: 100%;overflow: auto;}#sk-container-id-1 input.sk-toggleable__control:checked~label.sk-toggleable__label-arrow:before {content: \"▾\";}#sk-container-id-1 div.sk-estimator input.sk-toggleable__control:checked~label.sk-toggleable__label {background-color: #d4ebff;}#sk-container-id-1 div.sk-label input.sk-toggleable__control:checked~label.sk-toggleable__label {background-color: #d4ebff;}#sk-container-id-1 input.sk-hidden--visually {border: 0;clip: rect(1px 1px 1px 1px);clip: rect(1px, 1px, 1px, 1px);height: 1px;margin: -1px;overflow: hidden;padding: 0;position: absolute;width: 1px;}#sk-container-id-1 div.sk-estimator {font-family: monospace;background-color: #f0f8ff;border: 1px dotted black;border-radius: 0.25em;box-sizing: border-box;margin-bottom: 0.5em;}#sk-container-id-1 div.sk-estimator:hover {background-color: #d4ebff;}#sk-container-id-1 div.sk-parallel-item::after {content: \"\";width: 100%;border-bottom: 1px solid gray;flex-grow: 1;}#sk-container-id-1 div.sk-label:hover label.sk-toggleable__label {background-color: #d4ebff;}#sk-container-id-1 div.sk-serial::before {content: \"\";position: absolute;border-left: 1px solid gray;box-sizing: border-box;top: 0;bottom: 0;left: 50%;z-index: 0;}#sk-container-id-1 div.sk-serial {display: flex;flex-direction: column;align-items: center;background-color: white;padding-right: 0.2em;padding-left: 0.2em;position: relative;}#sk-container-id-1 div.sk-item {position: relative;z-index: 1;}#sk-container-id-1 div.sk-parallel {display: flex;align-items: stretch;justify-content: center;background-color: white;position: relative;}#sk-container-id-1 div.sk-item::before, #sk-container-id-1 div.sk-parallel-item::before {content: \"\";position: absolute;border-left: 1px solid gray;box-sizing: border-box;top: 0;bottom: 0;left: 50%;z-index: -1;}#sk-container-id-1 div.sk-parallel-item {display: flex;flex-direction: column;z-index: 1;position: relative;background-color: white;}#sk-container-id-1 div.sk-parallel-item:first-child::after {align-self: flex-end;width: 50%;}#sk-container-id-1 div.sk-parallel-item:last-child::after {align-self: flex-start;width: 50%;}#sk-container-id-1 div.sk-parallel-item:only-child::after {width: 0;}#sk-container-id-1 div.sk-dashed-wrapped {border: 1px dashed gray;margin: 0 0.4em 0.5em 0.4em;box-sizing: border-box;padding-bottom: 0.4em;background-color: white;}#sk-container-id-1 div.sk-label label {font-family: monospace;font-weight: bold;display: inline-block;line-height: 1.2em;}#sk-container-id-1 div.sk-label-container {text-align: center;}#sk-container-id-1 div.sk-container {/* jupyter's `normalize.less` sets `[hidden] { display: none; }` but bootstrap.min.css set `[hidden] { display: none !important; }` so we also need the `!important` here to be able to override the default hidden behavior on the sphinx rendered scikit-learn.org. See: https://github.com/scikit-learn/scikit-learn/issues/21755 */display: inline-block !important;position: relative;}#sk-container-id-1 div.sk-text-repr-fallback {display: none;}</style><div id=\"sk-container-id-1\" class=\"sk-top-container\"><div class=\"sk-text-repr-fallback\"><pre>MultinomialNB()</pre><b>In a Jupyter environment, please rerun this cell to show the HTML representation or trust the notebook. <br />On GitHub, the HTML representation is unable to render, please try loading this page with nbviewer.org.</b></div><div class=\"sk-container\" hidden><div class=\"sk-item\"><div class=\"sk-estimator sk-toggleable\"><input class=\"sk-toggleable__control sk-hidden--visually\" id=\"sk-estimator-id-1\" type=\"checkbox\" checked><label for=\"sk-estimator-id-1\" class=\"sk-toggleable__label sk-toggleable__label-arrow\">MultinomialNB</label><div class=\"sk-toggleable__content\"><pre>MultinomialNB()</pre></div></div></div></div></div>"
            ]
          },
          "metadata": {},
          "execution_count": 13
        }
      ]
    },
    {
      "cell_type": "code",
      "source": [
        "# model prediction\n",
        "y_pred = model.predict(X_test)"
      ],
      "metadata": {
        "id": "t6LkCUD-Yknd"
      },
      "execution_count": null,
      "outputs": []
    },
    {
      "cell_type": "code",
      "source": [
        "# model evaluation\n",
        "from sklearn.metrics import accuracy_score, confusion_matrix, classification_report\n",
        "\n",
        "ac = accuracy_score(y_test, y_pred)\n",
        "print(\"Accuracy is :\",ac)"
      ],
      "metadata": {
        "colab": {
          "base_uri": "https://localhost:8080/"
        },
        "id": "eNTO9NAPY49f",
        "outputId": "72a8914a-dfbb-4629-dd15-6028f797b084"
      },
      "execution_count": null,
      "outputs": [
        {
          "output_type": "stream",
          "name": "stdout",
          "text": [
            "Accuracy is : 0.9821083172147002\n"
          ]
        }
      ]
    },
    {
      "cell_type": "markdown",
      "source": [
        "## 3.1 Embedding similar clases (same baseline)"
      ],
      "metadata": {
        "id": "n8O84fkDpQCT"
      }
    },
    {
      "cell_type": "code",
      "source": [
        "# creating the final model\n",
        "X_train, X_test, y_train, y_test = train_test_split(X, y, test_size = 0.20, random_state=42)\n",
        "from sklearn.pipeline import Pipeline\n",
        "pipe = Pipeline([('vectorizer', cv), ('multinomialNB', model)])\n",
        "pipe.fit(X_train, y_train)"
      ],
      "metadata": {
        "colab": {
          "base_uri": "https://localhost:8080/",
          "height": 124
        },
        "id": "zN455aZlZ5FY",
        "outputId": "a0a663c5-f404-493d-ad88-9aac5d3f33f8"
      },
      "execution_count": null,
      "outputs": [
        {
          "output_type": "execute_result",
          "data": {
            "text/plain": [
              "Pipeline(steps=[('vectorizer', CountVectorizer()),\n",
              "                ('multinomialNB', MultinomialNB())])"
            ],
            "text/html": [
              "<style>#sk-container-id-2 {color: black;background-color: white;}#sk-container-id-2 pre{padding: 0;}#sk-container-id-2 div.sk-toggleable {background-color: white;}#sk-container-id-2 label.sk-toggleable__label {cursor: pointer;display: block;width: 100%;margin-bottom: 0;padding: 0.3em;box-sizing: border-box;text-align: center;}#sk-container-id-2 label.sk-toggleable__label-arrow:before {content: \"▸\";float: left;margin-right: 0.25em;color: #696969;}#sk-container-id-2 label.sk-toggleable__label-arrow:hover:before {color: black;}#sk-container-id-2 div.sk-estimator:hover label.sk-toggleable__label-arrow:before {color: black;}#sk-container-id-2 div.sk-toggleable__content {max-height: 0;max-width: 0;overflow: hidden;text-align: left;background-color: #f0f8ff;}#sk-container-id-2 div.sk-toggleable__content pre {margin: 0.2em;color: black;border-radius: 0.25em;background-color: #f0f8ff;}#sk-container-id-2 input.sk-toggleable__control:checked~div.sk-toggleable__content {max-height: 200px;max-width: 100%;overflow: auto;}#sk-container-id-2 input.sk-toggleable__control:checked~label.sk-toggleable__label-arrow:before {content: \"▾\";}#sk-container-id-2 div.sk-estimator input.sk-toggleable__control:checked~label.sk-toggleable__label {background-color: #d4ebff;}#sk-container-id-2 div.sk-label input.sk-toggleable__control:checked~label.sk-toggleable__label {background-color: #d4ebff;}#sk-container-id-2 input.sk-hidden--visually {border: 0;clip: rect(1px 1px 1px 1px);clip: rect(1px, 1px, 1px, 1px);height: 1px;margin: -1px;overflow: hidden;padding: 0;position: absolute;width: 1px;}#sk-container-id-2 div.sk-estimator {font-family: monospace;background-color: #f0f8ff;border: 1px dotted black;border-radius: 0.25em;box-sizing: border-box;margin-bottom: 0.5em;}#sk-container-id-2 div.sk-estimator:hover {background-color: #d4ebff;}#sk-container-id-2 div.sk-parallel-item::after {content: \"\";width: 100%;border-bottom: 1px solid gray;flex-grow: 1;}#sk-container-id-2 div.sk-label:hover label.sk-toggleable__label {background-color: #d4ebff;}#sk-container-id-2 div.sk-serial::before {content: \"\";position: absolute;border-left: 1px solid gray;box-sizing: border-box;top: 0;bottom: 0;left: 50%;z-index: 0;}#sk-container-id-2 div.sk-serial {display: flex;flex-direction: column;align-items: center;background-color: white;padding-right: 0.2em;padding-left: 0.2em;position: relative;}#sk-container-id-2 div.sk-item {position: relative;z-index: 1;}#sk-container-id-2 div.sk-parallel {display: flex;align-items: stretch;justify-content: center;background-color: white;position: relative;}#sk-container-id-2 div.sk-item::before, #sk-container-id-2 div.sk-parallel-item::before {content: \"\";position: absolute;border-left: 1px solid gray;box-sizing: border-box;top: 0;bottom: 0;left: 50%;z-index: -1;}#sk-container-id-2 div.sk-parallel-item {display: flex;flex-direction: column;z-index: 1;position: relative;background-color: white;}#sk-container-id-2 div.sk-parallel-item:first-child::after {align-self: flex-end;width: 50%;}#sk-container-id-2 div.sk-parallel-item:last-child::after {align-self: flex-start;width: 50%;}#sk-container-id-2 div.sk-parallel-item:only-child::after {width: 0;}#sk-container-id-2 div.sk-dashed-wrapped {border: 1px dashed gray;margin: 0 0.4em 0.5em 0.4em;box-sizing: border-box;padding-bottom: 0.4em;background-color: white;}#sk-container-id-2 div.sk-label label {font-family: monospace;font-weight: bold;display: inline-block;line-height: 1.2em;}#sk-container-id-2 div.sk-label-container {text-align: center;}#sk-container-id-2 div.sk-container {/* jupyter's `normalize.less` sets `[hidden] { display: none; }` but bootstrap.min.css set `[hidden] { display: none !important; }` so we also need the `!important` here to be able to override the default hidden behavior on the sphinx rendered scikit-learn.org. See: https://github.com/scikit-learn/scikit-learn/issues/21755 */display: inline-block !important;position: relative;}#sk-container-id-2 div.sk-text-repr-fallback {display: none;}</style><div id=\"sk-container-id-2\" class=\"sk-top-container\"><div class=\"sk-text-repr-fallback\"><pre>Pipeline(steps=[(&#x27;vectorizer&#x27;, CountVectorizer()),\n",
              "                (&#x27;multinomialNB&#x27;, MultinomialNB())])</pre><b>In a Jupyter environment, please rerun this cell to show the HTML representation or trust the notebook. <br />On GitHub, the HTML representation is unable to render, please try loading this page with nbviewer.org.</b></div><div class=\"sk-container\" hidden><div class=\"sk-item sk-dashed-wrapped\"><div class=\"sk-label-container\"><div class=\"sk-label sk-toggleable\"><input class=\"sk-toggleable__control sk-hidden--visually\" id=\"sk-estimator-id-2\" type=\"checkbox\" ><label for=\"sk-estimator-id-2\" class=\"sk-toggleable__label sk-toggleable__label-arrow\">Pipeline</label><div class=\"sk-toggleable__content\"><pre>Pipeline(steps=[(&#x27;vectorizer&#x27;, CountVectorizer()),\n",
              "                (&#x27;multinomialNB&#x27;, MultinomialNB())])</pre></div></div></div><div class=\"sk-serial\"><div class=\"sk-item\"><div class=\"sk-estimator sk-toggleable\"><input class=\"sk-toggleable__control sk-hidden--visually\" id=\"sk-estimator-id-3\" type=\"checkbox\" ><label for=\"sk-estimator-id-3\" class=\"sk-toggleable__label sk-toggleable__label-arrow\">CountVectorizer</label><div class=\"sk-toggleable__content\"><pre>CountVectorizer()</pre></div></div></div><div class=\"sk-item\"><div class=\"sk-estimator sk-toggleable\"><input class=\"sk-toggleable__control sk-hidden--visually\" id=\"sk-estimator-id-4\" type=\"checkbox\" ><label for=\"sk-estimator-id-4\" class=\"sk-toggleable__label sk-toggleable__label-arrow\">MultinomialNB</label><div class=\"sk-toggleable__content\"><pre>MultinomialNB()</pre></div></div></div></div></div></div></div>"
            ]
          },
          "metadata": {},
          "execution_count": 16
        }
      ]
    },
    {
      "cell_type": "code",
      "source": [
        "# check for the same accuracy\n",
        "y_pred = pipe.predict(X_test)\n",
        "\n",
        "ac = accuracy_score(y_test, y_pred)\n",
        "print(\"Accuracy is :\",ac)"
      ],
      "metadata": {
        "colab": {
          "base_uri": "https://localhost:8080/"
        },
        "id": "hWcVfudhboid",
        "outputId": "2703d8fc-1292-4788-8ea4-da1b2a03f350"
      },
      "execution_count": null,
      "outputs": [
        {
          "output_type": "stream",
          "name": "stdout",
          "text": [
            "Accuracy is : 0.9821083172147002\n"
          ]
        }
      ]
    },
    {
      "cell_type": "code",
      "source": [
        "y_pred"
      ],
      "metadata": {
        "colab": {
          "base_uri": "https://localhost:8080/"
        },
        "id": "4X92JvLlyepT",
        "outputId": "1068845c-b954-4de7-e820-d00bc5e43cf2"
      },
      "execution_count": null,
      "outputs": [
        {
          "output_type": "execute_result",
          "data": {
            "text/plain": [
              "array([12,  8,  3, ...,  2,  6,  4])"
            ]
          },
          "metadata": {},
          "execution_count": 18
        }
      ]
    },
    {
      "cell_type": "markdown",
      "source": [
        "### 3.1.1 Final training (all available data)"
      ],
      "metadata": {
        "id": "t4XBWUT6qTP9"
      }
    },
    {
      "cell_type": "code",
      "source": [
        "# Use all the the data for the final training\n",
        "pipe.fit(X, y)"
      ],
      "metadata": {
        "colab": {
          "base_uri": "https://localhost:8080/",
          "height": 124
        },
        "id": "fxV8QjzIqflF",
        "outputId": "dc07b17d-1e05-45fa-f747-dc440c5e673c"
      },
      "execution_count": null,
      "outputs": [
        {
          "output_type": "execute_result",
          "data": {
            "text/plain": [
              "Pipeline(steps=[('vectorizer', CountVectorizer()),\n",
              "                ('multinomialNB', MultinomialNB())])"
            ],
            "text/html": [
              "<style>#sk-container-id-3 {color: black;background-color: white;}#sk-container-id-3 pre{padding: 0;}#sk-container-id-3 div.sk-toggleable {background-color: white;}#sk-container-id-3 label.sk-toggleable__label {cursor: pointer;display: block;width: 100%;margin-bottom: 0;padding: 0.3em;box-sizing: border-box;text-align: center;}#sk-container-id-3 label.sk-toggleable__label-arrow:before {content: \"▸\";float: left;margin-right: 0.25em;color: #696969;}#sk-container-id-3 label.sk-toggleable__label-arrow:hover:before {color: black;}#sk-container-id-3 div.sk-estimator:hover label.sk-toggleable__label-arrow:before {color: black;}#sk-container-id-3 div.sk-toggleable__content {max-height: 0;max-width: 0;overflow: hidden;text-align: left;background-color: #f0f8ff;}#sk-container-id-3 div.sk-toggleable__content pre {margin: 0.2em;color: black;border-radius: 0.25em;background-color: #f0f8ff;}#sk-container-id-3 input.sk-toggleable__control:checked~div.sk-toggleable__content {max-height: 200px;max-width: 100%;overflow: auto;}#sk-container-id-3 input.sk-toggleable__control:checked~label.sk-toggleable__label-arrow:before {content: \"▾\";}#sk-container-id-3 div.sk-estimator input.sk-toggleable__control:checked~label.sk-toggleable__label {background-color: #d4ebff;}#sk-container-id-3 div.sk-label input.sk-toggleable__control:checked~label.sk-toggleable__label {background-color: #d4ebff;}#sk-container-id-3 input.sk-hidden--visually {border: 0;clip: rect(1px 1px 1px 1px);clip: rect(1px, 1px, 1px, 1px);height: 1px;margin: -1px;overflow: hidden;padding: 0;position: absolute;width: 1px;}#sk-container-id-3 div.sk-estimator {font-family: monospace;background-color: #f0f8ff;border: 1px dotted black;border-radius: 0.25em;box-sizing: border-box;margin-bottom: 0.5em;}#sk-container-id-3 div.sk-estimator:hover {background-color: #d4ebff;}#sk-container-id-3 div.sk-parallel-item::after {content: \"\";width: 100%;border-bottom: 1px solid gray;flex-grow: 1;}#sk-container-id-3 div.sk-label:hover label.sk-toggleable__label {background-color: #d4ebff;}#sk-container-id-3 div.sk-serial::before {content: \"\";position: absolute;border-left: 1px solid gray;box-sizing: border-box;top: 0;bottom: 0;left: 50%;z-index: 0;}#sk-container-id-3 div.sk-serial {display: flex;flex-direction: column;align-items: center;background-color: white;padding-right: 0.2em;padding-left: 0.2em;position: relative;}#sk-container-id-3 div.sk-item {position: relative;z-index: 1;}#sk-container-id-3 div.sk-parallel {display: flex;align-items: stretch;justify-content: center;background-color: white;position: relative;}#sk-container-id-3 div.sk-item::before, #sk-container-id-3 div.sk-parallel-item::before {content: \"\";position: absolute;border-left: 1px solid gray;box-sizing: border-box;top: 0;bottom: 0;left: 50%;z-index: -1;}#sk-container-id-3 div.sk-parallel-item {display: flex;flex-direction: column;z-index: 1;position: relative;background-color: white;}#sk-container-id-3 div.sk-parallel-item:first-child::after {align-self: flex-end;width: 50%;}#sk-container-id-3 div.sk-parallel-item:last-child::after {align-self: flex-start;width: 50%;}#sk-container-id-3 div.sk-parallel-item:only-child::after {width: 0;}#sk-container-id-3 div.sk-dashed-wrapped {border: 1px dashed gray;margin: 0 0.4em 0.5em 0.4em;box-sizing: border-box;padding-bottom: 0.4em;background-color: white;}#sk-container-id-3 div.sk-label label {font-family: monospace;font-weight: bold;display: inline-block;line-height: 1.2em;}#sk-container-id-3 div.sk-label-container {text-align: center;}#sk-container-id-3 div.sk-container {/* jupyter's `normalize.less` sets `[hidden] { display: none; }` but bootstrap.min.css set `[hidden] { display: none !important; }` so we also need the `!important` here to be able to override the default hidden behavior on the sphinx rendered scikit-learn.org. See: https://github.com/scikit-learn/scikit-learn/issues/21755 */display: inline-block !important;position: relative;}#sk-container-id-3 div.sk-text-repr-fallback {display: none;}</style><div id=\"sk-container-id-3\" class=\"sk-top-container\"><div class=\"sk-text-repr-fallback\"><pre>Pipeline(steps=[(&#x27;vectorizer&#x27;, CountVectorizer()),\n",
              "                (&#x27;multinomialNB&#x27;, MultinomialNB())])</pre><b>In a Jupyter environment, please rerun this cell to show the HTML representation or trust the notebook. <br />On GitHub, the HTML representation is unable to render, please try loading this page with nbviewer.org.</b></div><div class=\"sk-container\" hidden><div class=\"sk-item sk-dashed-wrapped\"><div class=\"sk-label-container\"><div class=\"sk-label sk-toggleable\"><input class=\"sk-toggleable__control sk-hidden--visually\" id=\"sk-estimator-id-5\" type=\"checkbox\" ><label for=\"sk-estimator-id-5\" class=\"sk-toggleable__label sk-toggleable__label-arrow\">Pipeline</label><div class=\"sk-toggleable__content\"><pre>Pipeline(steps=[(&#x27;vectorizer&#x27;, CountVectorizer()),\n",
              "                (&#x27;multinomialNB&#x27;, MultinomialNB())])</pre></div></div></div><div class=\"sk-serial\"><div class=\"sk-item\"><div class=\"sk-estimator sk-toggleable\"><input class=\"sk-toggleable__control sk-hidden--visually\" id=\"sk-estimator-id-6\" type=\"checkbox\" ><label for=\"sk-estimator-id-6\" class=\"sk-toggleable__label sk-toggleable__label-arrow\">CountVectorizer</label><div class=\"sk-toggleable__content\"><pre>CountVectorizer()</pre></div></div></div><div class=\"sk-item\"><div class=\"sk-estimator sk-toggleable\"><input class=\"sk-toggleable__control sk-hidden--visually\" id=\"sk-estimator-id-7\" type=\"checkbox\" ><label for=\"sk-estimator-id-7\" class=\"sk-toggleable__label sk-toggleable__label-arrow\">MultinomialNB</label><div class=\"sk-toggleable__content\"><pre>MultinomialNB()</pre></div></div></div></div></div></div></div>"
            ]
          },
          "metadata": {},
          "execution_count": 19
        }
      ]
    },
    {
      "cell_type": "markdown",
      "source": [
        "## 3.2 Persisting the model & decoder"
      ],
      "metadata": {
        "id": "TwnqVuNapsaF"
      }
    },
    {
      "cell_type": "code",
      "source": [
        "with open('models/trained_model-1.0.0.pkl','wb') as f:\n",
        "  pickle.dump(pipe, f)\n",
        "\n",
        "with open('models/language_dec-1.0.0.pkl','wb') as f:\n",
        "  pickle.dump(le.classes_, f)"
      ],
      "metadata": {
        "id": "M56tVKAjp0AL"
      },
      "execution_count": null,
      "outputs": []
    },
    {
      "cell_type": "code",
      "source": [
        "le.classes_"
      ],
      "metadata": {
        "colab": {
          "base_uri": "https://localhost:8080/"
        },
        "id": "gYSyVuGlrHDm",
        "outputId": "cb5aa5d5-27d5-4240-bdd5-c68e55cd20a9"
      },
      "execution_count": null,
      "outputs": [
        {
          "output_type": "execute_result",
          "data": {
            "text/plain": [
              "array(['Arabic', 'Danish', 'Dutch', 'English', 'French', 'German',\n",
              "       'Greek', 'Hindi', 'Italian', 'Kannada', 'Malayalam', 'Portugeese',\n",
              "       'Russian', 'Spanish', 'Sweedish', 'Tamil', 'Turkish'], dtype=object)"
            ]
          },
          "metadata": {},
          "execution_count": 21
        }
      ]
    },
    {
      "cell_type": "markdown",
      "source": [
        "# 4 Defining final pipeline"
      ],
      "metadata": {
        "id": "NFlP3K3JpbMA"
      }
    },
    {
      "cell_type": "code",
      "source": [
        "with open('models/trained_model-1.0.0.pkl', 'rb') as f:\n",
        "  model = pickle.load(f)\n",
        "\n",
        "with open('models/language_dec-1.0.0.pkl', 'rb') as f:\n",
        "  decoder = pickle.load(f)\n",
        "\n",
        "def predict_pipeline(text):\n",
        "  text = re.sub(r'[!@#$(),\\n\"%^*?\\:;~`0-9]', ' ', text)\n",
        "  text = re.sub(r'[[]]', ' ', text)\n",
        "  text = text.lower()\n",
        "  pred = model.predict([text])\n",
        "  return decoder[pred[0]]"
      ],
      "metadata": {
        "id": "YezxSuZTjImn"
      },
      "execution_count": null,
      "outputs": []
    },
    {
      "cell_type": "code",
      "source": [
        "text_1 = 'Hello my friend'\n",
        "text_2 = 'Hola mi amigo'\n",
        "text_3 = 'Hallo mein Freund'\n",
        "text_4 = 'Bonjour mon ami'\n",
        "\n",
        "predict_pipeline(text_4)"
      ],
      "metadata": {
        "colab": {
          "base_uri": "https://localhost:8080/",
          "height": 35
        },
        "id": "zosj0L33nqHc",
        "outputId": "b61d45ac-5e78-4e33-a1ef-e0120f9c2a10"
      },
      "execution_count": null,
      "outputs": [
        {
          "output_type": "execute_result",
          "data": {
            "text/plain": [
              "'French'"
            ],
            "application/vnd.google.colaboratory.intrinsic+json": {
              "type": "string"
            }
          },
          "metadata": {},
          "execution_count": 27
        }
      ]
    },
    {
      "cell_type": "code",
      "source": [],
      "metadata": {
        "id": "G7h_u_aetiwO"
      },
      "execution_count": null,
      "outputs": []
    }
  ]
}