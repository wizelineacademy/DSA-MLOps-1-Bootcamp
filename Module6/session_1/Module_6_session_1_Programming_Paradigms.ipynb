{
  "nbformat": 4,
  "nbformat_minor": 0,
  "metadata": {
    "colab": {
      "provenance": []
    },
    "kernelspec": {
      "name": "python3",
      "display_name": "Python 3"
    },
    "language_info": {
      "name": "python"
    }
  },
  "cells": [
    {
      "cell_type": "markdown",
      "source": [
        "# Different types of Programming Paradigms"
      ],
      "metadata": {
        "id": "su2WZr3CKjfJ"
      }
    },
    {
      "cell_type": "markdown",
      "source": [
        "## Imperative Programming"
      ],
      "metadata": {
        "id": "7ctpLbFtK4Pm"
      }
    },
    {
      "cell_type": "code",
      "source": [
        "# Calculate total in the list\n",
        "total = 0\n",
        "myList = [1,2,3,4,5,6,7,8,9,10]\n",
        "\n",
        "# Create a for loop to add numbers in the list to the total\n",
        "for x in myList:\n",
        "     total += x\n",
        "print(total)"
      ],
      "metadata": {
        "colab": {
          "base_uri": "https://localhost:8080/"
        },
        "id": "a8Yd7rdDKrFs",
        "outputId": "b3b0a414-d5dc-4cf1-d975-3b1b0fa9da1b"
      },
      "execution_count": 1,
      "outputs": [
        {
          "output_type": "stream",
          "name": "stdout",
          "text": [
            "55\n"
          ]
        }
      ]
    },
    {
      "cell_type": "code",
      "source": [
        "# Concatenate characters to produce a string\n",
        "\n",
        "characters=['l','g','t','y','w','g','h','l']\n",
        "string =''\n",
        "for char in characters:\n",
        "    string=string+char\n",
        "\n",
        "print (string)"
      ],
      "metadata": {
        "colab": {
          "base_uri": "https://localhost:8080/"
        },
        "id": "s-B1CkBtOWdU",
        "outputId": "b54e2af1-56b1-4c23-9611-118b24a68d05"
      },
      "execution_count": 4,
      "outputs": [
        {
          "output_type": "stream",
          "name": "stdout",
          "text": [
            "lgtywghl\n"
          ]
        }
      ]
    },
    {
      "cell_type": "markdown",
      "source": [
        "## Declarative Programming"
      ],
      "metadata": {
        "id": "cof8VHtSNYCU"
      }
    },
    {
      "cell_type": "code",
      "source": [
        "mylist = [1,2,3,4,5,6,7,8,9,10]\n",
        "\n",
        "# set total to the sum of numbers in mylist\n",
        "total = sum(mylist)\n",
        "print(total)"
      ],
      "metadata": {
        "colab": {
          "base_uri": "https://localhost:8080/"
        },
        "id": "nmBy478SNb8f",
        "outputId": "25c3b9f5-9d9c-4de8-815f-79094157fa6c"
      },
      "execution_count": 3,
      "outputs": [
        {
          "output_type": "stream",
          "name": "stdout",
          "text": [
            "55\n"
          ]
        }
      ]
    },
    {
      "cell_type": "markdown",
      "source": [
        "## Functional Programming"
      ],
      "metadata": {
        "id": "S5UBKESGWl5E"
      }
    },
    {
      "cell_type": "code",
      "source": [
        "# Concatenate characters to produce a string\n",
        "\n",
        "import functools\n",
        "characters=['s','a','n','r','u','s','h','a']\n",
        "string=functools.reduce(lambda s,c:s+c,characters)\n",
        "print(string)"
      ],
      "metadata": {
        "colab": {
          "base_uri": "https://localhost:8080/"
        },
        "id": "QRTIt4cDWpmN",
        "outputId": "32a374d8-d0fa-49ce-ca61-514076a0c316"
      },
      "execution_count": 6,
      "outputs": [
        {
          "output_type": "stream",
          "name": "stdout",
          "text": [
            "sanrusha\n"
          ]
        }
      ]
    },
    {
      "cell_type": "markdown",
      "source": [
        "## Object Oriented Programming"
      ],
      "metadata": {
        "id": "x4di9MNOW0Un"
      }
    },
    {
      "cell_type": "code",
      "source": [
        "# Concatenate characters to produce a string\n",
        "\n",
        "\n",
        "class stringOps():\n",
        "    string=''\n",
        "    def __init__(self,characters):\n",
        "        self.characters=characters\n",
        "\n",
        "    def strinconcat(self):\n",
        "        for char in self.characters:\n",
        "            stringOps.string=stringOps.string+char\n",
        "\n",
        "\n",
        "if __name__ == '__main__':\n",
        "  list=['l','g','t','y','w','g','h','l']\n",
        "  list = stringOps(list)\n",
        "  print (list.strinconcat)\n"
      ],
      "metadata": {
        "colab": {
          "base_uri": "https://localhost:8080/"
        },
        "id": "bHpLCRMZW4lS",
        "outputId": "31de5a3b-eda1-4dc0-f32c-f05855da771e"
      },
      "execution_count": 17,
      "outputs": [
        {
          "output_type": "stream",
          "name": "stdout",
          "text": [
            "<bound method stringOps.strinconcat of <__main__.stringOps object at 0x7f4fc7dad930>>\n"
          ]
        }
      ]
    }
  ]
}