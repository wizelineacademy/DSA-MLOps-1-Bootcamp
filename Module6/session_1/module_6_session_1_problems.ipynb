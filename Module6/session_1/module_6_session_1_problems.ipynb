{
  "cells": [
    {
      "cell_type": "markdown",
      "metadata": {
        "id": "e_qPqNoHwyIR"
      },
      "source": [
        "## Imperative Programming"
      ]
    },
    {
      "cell_type": "code",
      "execution_count": 1,
      "metadata": {
        "id": "ZkfFzxi7w37C"
      },
      "outputs": [],
      "source": [
        "# Calculate total in the list\n",
        "numbers = [1,2,3,4,5,6,7,8,9,10]\n",
        "total = 0"
      ]
    },
    {
      "cell_type": "code",
      "execution_count": 2,
      "metadata": {
        "id": "lpnhZJFww7m1"
      },
      "outputs": [],
      "source": [
        "# Concatenate characters to produce a string only if all characters in the string are alphabetic.\n",
        "# If there is a numeric character, print \"Invalid_string\".\n",
        "# Capitalize the resulting string using the provided alphabet_dict.\n",
        "# Print the result for each characters list (two lists).\n",
        "# All input letters in the array are lowercase.\n",
        "\n",
        "alphabet_dict = {chr(97 + i): chr(65 + i) for i in range(26)}\n",
        "'''\n",
        "alphabet_dict = {\n",
        "  a': 'A',\n",
        " 'b': 'B',\n",
        " 'c': 'C',\n",
        " 'd': 'D',\n",
        "  .\n",
        "  .\n",
        "  .\n",
        "  'z': 'Z'\n",
        "'''\n",
        "characters_1=['h','e','l','l','o','f','r','i','e','n','d']\n",
        "characters_2=['h','e','l','l','o','f','r','1','e','n','d']"
      ]
    },
    {
      "cell_type": "markdown",
      "metadata": {
        "id": "hGVcH-d339xw"
      },
      "source": [
        "## Declarative Programming"
      ]
    },
    {
      "cell_type": "code",
      "execution_count": 3,
      "metadata": {
        "id": "Ljwrv0QyxuMI"
      },
      "outputs": [],
      "source": [
        "# Calculate total in the list\n",
        "numbers = [1,2,3,4,5,6,7,8,9,10]"
      ]
    },
    {
      "cell_type": "code",
      "execution_count": 4,
      "metadata": {
        "id": "JnD_CHRA4Lv0"
      },
      "outputs": [],
      "source": [
        "# Concatenate characters to produce a string only if all characters in the string are alphabetic.\n",
        "# If there is a numeric character, print \"Invalid_string\".\n",
        "# Capitalize the resulting string use whatever method you want.\n",
        "# Print the result for each characters list (two lists).\n",
        "# All input letters in the array are lowercase.\n",
        "\n",
        "characters_1=['h','e','l','l','o','f','r','i','e','n','d']\n",
        "characters_2=['h','e','l','l','o','f','r','1','e','n','d']"
      ]
    },
    {
      "cell_type": "markdown",
      "metadata": {
        "id": "Ali9mcIa75lq"
      },
      "source": [
        "## Functional programming"
      ]
    },
    {
      "cell_type": "code",
      "execution_count": 5,
      "metadata": {
        "id": "6e1VdL7P8B-2"
      },
      "outputs": [],
      "source": [
        "# Calculate total in the list using high order functions (functools)\n",
        "import functools\n",
        "numbers = [1,2,3,4,5,6,7,8,9,10]"
      ]
    },
    {
      "cell_type": "markdown",
      "metadata": {
        "id": "gn1mFSC5-3Kb"
      },
      "source": [
        "## Object oriented programming"
      ]
    },
    {
      "cell_type": "code",
      "execution_count": 6,
      "metadata": {
        "colab": {
          "base_uri": "https://localhost:8080/"
        },
        "id": "QZl3Aba79cee",
        "outputId": "ea86b443-6852-4ae6-cda8-e430f238c971"
      },
      "outputs": [
        {
          "name": "stdout",
          "output_type": "stream",
          "text": [
            "None\n",
            "None\n"
          ]
        }
      ],
      "source": [
        "# Create a class to solve the problem.\n",
        "# Concatenate characters to produce a string only if all characters in the string are alphabetic.\n",
        "# If there is a numeric character, print \"Invalid_string\".\n",
        "# Capitalize the resulting string use whatever method you want.\n",
        "# Print the result for each characters list (two lists).\n",
        "# All input letters in the array are lowercase.\n",
        "\n",
        "characters_1=['h','e','l','l','o','f','r','i','e','n','d']\n",
        "characters_2=['h','e','l','l','o','f','r','1','e','n','d']\n",
        "\n",
        "class stringOps():\n",
        "    def __init__(self,characters):\n",
        "        self.characters = None\n",
        "        self.string = None\n",
        "\n",
        "    def strinconcat(self):\n",
        "      None\n",
        "\n",
        "if __name__ == '__main__':\n",
        "  str_ops = stringOps(characters_1)\n",
        "  str_ops.strinconcat()\n",
        "  print(str_ops.string)\n",
        "  str_ops.characters = characters_2\n",
        "  str_ops.strinconcat()\n",
        "  print(str_ops.string)"
      ]
    }
  ],
  "metadata": {
    "colab": {
      "provenance": []
    },
    "kernelspec": {
      "display_name": "Python 3",
      "name": "python3"
    },
    "language_info": {
      "name": "python"
    }
  },
  "nbformat": 4,
  "nbformat_minor": 0
}
